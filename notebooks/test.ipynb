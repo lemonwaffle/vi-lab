{
 "metadata": {
  "language_info": {
   "codemirror_mode": {
    "name": "ipython",
    "version": 3
   },
   "file_extension": ".py",
   "mimetype": "text/x-python",
   "name": "python",
   "nbconvert_exporter": "python",
   "pygments_lexer": "ipython3",
   "version": 3
  },
  "orig_nbformat": 2,
  "kernelspec": {
   "name": "python_defaultSpec_1597197274599",
   "display_name": "Python 3.7.7 64-bit ('pytorch': conda)"
  }
 },
 "nbformat": 4,
 "nbformat_minor": 2,
 "cells": [
  {
   "cell_type": "markdown",
   "metadata": {},
   "source": [
    "# Fatir"
   ]
  },
  {
   "cell_type": "code",
   "execution_count": 1,
   "metadata": {},
   "outputs": [],
   "source": [
    "import torch\n",
    "import torch.nn as nn\n",
    "import numpy as np\n",
    "import matplotlib.pyplot as plt"
   ]
  },
  {
   "cell_type": "code",
   "execution_count": 2,
   "metadata": {},
   "outputs": [
    {
     "output_type": "execute_result",
     "data": {
      "text/plain": "<torch._C.Generator at 0x7ff5712353d0>"
     },
     "metadata": {},
     "execution_count": 2
    }
   ],
   "source": [
    "torch.manual_seed(42)"
   ]
  },
  {
   "cell_type": "code",
   "execution_count": 3,
   "metadata": {},
   "outputs": [
    {
     "output_type": "execute_result",
     "data": {
      "text/plain": "tensor([1.9150], requires_grad=True)"
     },
     "metadata": {},
     "execution_count": 3
    }
   ],
   "source": [
    "# Assume that a and b are the parameters of Gaussian output by the encoder\n",
    "a = torch.rand([1]) + 0.5\n",
    "b = torch.rand([1]) + 1\n",
    "a.requires_grad_()\n",
    "b.requires_grad_()"
   ]
  },
  {
   "cell_type": "code",
   "execution_count": 4,
   "metadata": {},
   "outputs": [],
   "source": [
    "# Assume that this class is an Invertible Neural Network\n",
    "# It's just an exp <--> log pair essentially\n",
    "class ExpNF:\n",
    "    def __init__(self, base):\n",
    "        self.base = base\n",
    "        self.mean = nn.Parameter(torch.zeros([1]))\n",
    "    def forward(self, x):\n",
    "        return torch.exp(x + self.mean)\n",
    "    def inverse(self, y):\n",
    "        return torch.log(y) - self.mean\n",
    "    def LDT(self, x):\n",
    "        return -torch.abs(x + self.mean)\n",
    "    def iLDT(self, y):\n",
    "        return torch.log(1/(y))\n",
    "    def log_prob(self, y):\n",
    "        # Log-prob of a point under the NF. Uses the inverse formula.\n",
    "        return base.log_prob(self.inverse(y)) + self.iLDT(y)"
   ]
  },
  {
   "cell_type": "code",
   "execution_count": 5,
   "metadata": {},
   "outputs": [],
   "source": [
    "base = torch.distributions.normal.Normal(a, b) # The base distribution: Gaussian\n",
    "exp_nf = ExpNF(base) # The Normalizing Flow: Base + Exp. Essentially becomes a log-normal"
   ]
  },
  {
   "cell_type": "code",
   "execution_count": 6,
   "metadata": {},
   "outputs": [],
   "source": [
    "z = torch.rand([10, 1]) # Start from a random point\n",
    "z.requires_grad_()\n",
    "noise = torch.randn([10, 1]) # Brownian noise\n",
    "eta = 0.01 # Step size\n",
    "lp = exp_nf.log_prob(z) # Target log density"
   ]
  },
  {
   "cell_type": "code",
   "execution_count": 7,
   "metadata": {},
   "outputs": [],
   "source": [
    "lp = lp.sum()"
   ]
  },
  {
   "cell_type": "code",
   "execution_count": 7,
   "metadata": {},
   "outputs": [],
   "source": [
    "grad = torch.autograd.grad(\n",
    "    lp, \n",
    "    z, \n",
    "    grad_outputs=torch.ones_like(z), \n",
    "    create_graph=True, \n",
    "    retain_graph=True)[0]\n"
   ]
  },
  {
   "cell_type": "code",
   "execution_count": 8,
   "metadata": {},
   "outputs": [],
   "source": [
    "z_t = z + eta*grad + np.sqrt(2 * eta) * noise # Langevin update"
   ]
  },
  {
   "cell_type": "code",
   "execution_count": 10,
   "metadata": {},
   "outputs": [],
   "source": [
    "z_t.backward(gradient=torch.ones_like(z_t)) # Checking if the backward pass works"
   ]
  },
  {
   "cell_type": "code",
   "execution_count": 11,
   "metadata": {},
   "outputs": [
    {
     "output_type": "execute_result",
     "data": {
      "text/plain": "(tensor([0.0664]), tensor([-0.1744]), tensor([0.0664]))"
     },
     "metadata": {},
     "execution_count": 11
    }
   ],
   "source": [
    "a.grad, b.grad, exp_nf.mean.grad # It does!"
   ]
  },
  {
   "cell_type": "code",
   "execution_count": 11,
   "metadata": {},
   "outputs": [
    {
     "output_type": "execute_result",
     "data": {
      "text/plain": "(tensor([0.0664]), tensor([-0.1744]), tensor([0.0664]))"
     },
     "metadata": {},
     "execution_count": 11
    }
   ],
   "source": [
    "a.grad, b.grad, exp_nf.mean.grad # It does!"
   ]
  },
  {
   "cell_type": "markdown",
   "metadata": {},
   "source": [
    "# VI Test"
   ]
  },
  {
   "cell_type": "code",
   "execution_count": 1,
   "metadata": {},
   "outputs": [],
   "source": [
    "import torch.nn as nn"
   ]
  },
  {
   "cell_type": "code",
   "execution_count": 3,
   "metadata": {},
   "outputs": [],
   "source": [
    "class VI(nn.Module):\n",
    "    def __init__(self):\n",
    "        super().__init__()\n",
    "\n",
    "        self.q_mu = nn.Sequential(\n",
    "            nn.Linear(1, 20),\n",
    "            nn.ReLU(),\n",
    "            nn.Linear(20, 10),\n",
    "            nn.ReLU(),\n",
    "            nn.Linear(10, 1)\n",
    "        )\n",
    "        self.q_log_var = nn.Sequential(\n",
    "            nn.Linear(1, 20),\n",
    "            nn.ReLU(),\n",
    "            nn.Linear(20, 10),\n",
    "            nn.ReLU(),\n",
    "            nn.Linear(10, 1)\n",
    "        )\n",
    "\n",
    "    def reparameterize(self, mu, log_var):\n",
    "        sigma = torch.exp(0.5 * log_var) + 1e-5\n",
    "        eps = torch.randn_like(sigma)\n",
    "        return mu + sigma * eps\n",
    "\n",
    "    def forward(self, x):\n",
    "        mu = self.q_mu(x)\n",
    "        log_var = self.q_log_var(x)\n",
    "\n",
    "        return self.reparameterize(mu, log_var), mu, log_var"
   ]
  },
  {
   "cell_type": "code",
   "execution_count": 12,
   "metadata": {},
   "outputs": [],
   "source": [
    "def ll_gaussian(y, mu, log_var):\n",
    "    sigma = torch.exp(0.5 * log_var)\n",
    "    return -0.5 * torch.log(2 * np.pi * sigma**2) - (1 / (2 * sigma**2))* (y-mu)**2"
   ]
  },
  {
   "cell_type": "code",
   "execution_count": 14,
   "metadata": {},
   "outputs": [],
   "source": [
    "def elbo(y_pred, y, mu, log_var):\n",
    "    likelihood = ll_gaussian(y, mu, log_var)\n",
    "\n",
    "    log_prior = ll_gaussian(y_pred, 0, torch.log(torch.tensor(1.)))\n",
    "\n",
    "    log_p_q = ll_gaussian(y_pred, mu, log_var)\n",
    "\n",
    "    return (likelihood + log_prior - log_p_q).mean()\n",
    "\n",
    "def det_loss(y_pred, y, mu, log_var):\n",
    "    return -elbo(y_pred, y, mu, log_var)\n",
    "\n",
    "def det_loss(y, y_pred, mu, log_var):\n",
    "    reconstruction_error = (0.5 * (y - y_pred)**2).sum()\n",
    "    kl_divergence = (-0.5 * torch.sum(1 + log_var - mu**2 - log_var.exp()))\n",
    "\n",
    "    return (reconstruction_error + kl_divergence).sum()"
   ]
  },
  {
   "cell_type": "markdown",
   "metadata": {},
   "source": [
    "# Toy Example Test"
   ]
  },
  {
   "cell_type": "code",
   "execution_count": 82,
   "metadata": {},
   "outputs": [],
   "source": [
    "from torch.distributions.multivariate_normal import MultivariateNormal\n",
    "from torch.distributions.normal import Normal\n",
    "from torch.distributions.kl import kl_divergence\n",
    "import torch.optim as optim\n",
    "import matplotlib.pyplot as plt"
   ]
  },
  {
   "cell_type": "code",
   "execution_count": 92,
   "metadata": {},
   "outputs": [],
   "source": [
    "class NormalDist(nn.Module):\n",
    "    def __init__(self, n_dim):\n",
    "        super().__init__()\n",
    "        \n",
    "        self.loc = nn.Parameter(torch.randn(n_dim), requires_grad=True)\n",
    "        self.log_scale = nn.Parameter(torch.zeros(n_dim), requires_grad=True)\n",
    "        # How to initialize point?\n",
    "        self.prev_sample = torch.randn(n_dim)\n",
    "\n",
    "    def get_dist(self):\n",
    "        return Normal(self.loc, self.log_scale.exp())\n"
   ]
  },
  {
   "cell_type": "code",
   "execution_count": 87,
   "metadata": {},
   "outputs": [],
   "source": [
    "def f_theta(z, q_dist, p_dist):\n",
    "    return q_dist.log_prob(z).sum() - \\\n",
    "        p_dist.log_prob(z).sum()\n",
    "\n",
    "def langevin_step(z, q_dist, eta=0.01):\n",
    "    noise = torch.randn_like(z)\n",
    "    log_q = q_dist.log_prob(z).sum()\n",
    "    grad = torch.autograd.grad(log_q, z, create_graph=True)[0]\n",
    "\n",
    "    return z + eta*grad + torch.sqrt(2*eta)*noise\n",
    "\n",
    "def reparam_kl(q_dist, p_dist):\n",
    "    q_sample = q_dist.rsample()\n",
    "\n",
    "    f = f_theta(q_sample, q_dist, p_dist)\n",
    "\n",
    "    return f\n",
    "\n",
    "def reinforce_kl(q_dist, p_dist):\n",
    "    # Don't reparameterize\n",
    "    q_sample = q_dist.sample()\n",
    "\n",
    "    f = f_theta(q_sample, q_dist, p_dist)\n",
    "\n",
    "    return q_dist.log_prob(q_sample).sum() * f.detach() + f\n",
    "\n",
    "def langevin_kl(q_model, p_dist, s, t):\n",
    "    q_dist = q_model.get_dist()\n",
    "    z = q_model.prev_sample\n",
    "\n",
    "    # Run chain w/o reparameterization\n",
    "    with torch.no_grad():\n",
    "        for _ in range(s):\n",
    "            z = langevin_step(z, q_dist)\n",
    "\n",
    "    # Run chain w reparameterization\n",
    "    for _ in range(t):\n",
    "        z = langevin_step(z, q_dist)\n",
    "    \n",
    "    f = f_theta(z, q_dist, p_dist)\n",
    "\n",
    "    return f"
   ]
  },
  {
   "cell_type": "code",
   "execution_count": 88,
   "metadata": {},
   "outputs": [],
   "source": [
    "n_iter = 4000\n",
    "\n",
    "loc = torch.tensor([1., 2.])\n",
    "scale = torch.tensor([1., 5.])\n",
    "p_dist = Normal(loc, scale)\n",
    "\n",
    "q_model = NormalDist(n_dim=2)\n",
    "\n",
    "optimizer = optim.SGD(q_model.parameters(), lr=1e-3)\n",
    "# optimizer = optim.Adam(q_model.parameters(), lr=1e-3)"
   ]
  },
  {
   "cell_type": "code",
   "execution_count": 89,
   "metadata": {},
   "outputs": [],
   "source": [
    "kls = []\n",
    "\n",
    "for i in range(n_iter):\n",
    "    optimizer.zero_grad()\n",
    "\n",
    "    q_dist = q_model.get_dist()\n",
    "\n",
    "    loss = reinforce_kl(q_dist, p_dist)\n",
    "\n",
    "    loss.backward()\n",
    "    optimizer.step()\n",
    "\n",
    "    with torch.no_grad():\n",
    "        kl = kl_divergence(q_model.get_dist(), p_dist).mean().item()\n",
    "        kls.append(kl)"
   ]
  },
  {
   "cell_type": "code",
   "execution_count": 90,
   "metadata": {},
   "outputs": [
    {
     "output_type": "execute_result",
     "data": {
      "text/plain": "tensor([0.9708, 4.7722], grad_fn=<ExpBackward>)"
     },
     "metadata": {},
     "execution_count": 90
    }
   ],
   "source": [
    "list(q_model.parameters())[1].exp()"
   ]
  },
  {
   "cell_type": "code",
   "execution_count": 91,
   "metadata": {},
   "outputs": [
    {
     "output_type": "execute_result",
     "data": {
      "text/plain": "[<matplotlib.lines.Line2D at 0x7ff5799e3c10>]"
     },
     "metadata": {},
     "execution_count": 91
    },
    {
     "output_type": "display_data",
     "data": {
      "text/plain": "<Figure size 432x288 with 1 Axes>",
      "image/svg+xml": "<?xml version=\"1.0\" encoding=\"utf-8\" standalone=\"no\"?>\n<!DOCTYPE svg PUBLIC \"-//W3C//DTD SVG 1.1//EN\"\n  \"http://www.w3.org/Graphics/SVG/1.1/DTD/svg11.dtd\">\n<!-- Created with matplotlib (https://matplotlib.org/) -->\n<svg height=\"248.518125pt\" version=\"1.1\" viewBox=\"0 0 372.821633 248.518125\" width=\"372.821633pt\" xmlns=\"http://www.w3.org/2000/svg\" xmlns:xlink=\"http://www.w3.org/1999/xlink\">\n <defs>\n  <style type=\"text/css\">\n*{stroke-linecap:butt;stroke-linejoin:round;}\n  </style>\n </defs>\n <g id=\"figure_1\">\n  <g id=\"patch_1\">\n   <path d=\"M 0 248.518125 \nL 372.821633 248.518125 \nL 372.821633 0 \nL 0 0 \nz\n\" style=\"fill:none;\"/>\n  </g>\n  <g id=\"axes_1\">\n   <g id=\"patch_2\">\n    <path d=\"M 30.103125 224.64 \nL 364.903125 224.64 \nL 364.903125 7.2 \nL 30.103125 7.2 \nz\n\" style=\"fill:#ffffff;\"/>\n   </g>\n   <g id=\"matplotlib.axis_1\">\n    <g id=\"xtick_1\">\n     <g id=\"line2d_1\">\n      <defs>\n       <path d=\"M 0 0 \nL 0 3.5 \n\" id=\"mb68bbb4511\" style=\"stroke:#000000;stroke-width:0.8;\"/>\n      </defs>\n      <g>\n       <use style=\"stroke:#000000;stroke-width:0.8;\" x=\"45.321307\" xlink:href=\"#mb68bbb4511\" y=\"224.64\"/>\n      </g>\n     </g>\n     <g id=\"text_1\">\n      <!-- 0 -->\n      <defs>\n       <path d=\"M 31.78125 66.40625 \nQ 24.171875 66.40625 20.328125 58.90625 \nQ 16.5 51.421875 16.5 36.375 \nQ 16.5 21.390625 20.328125 13.890625 \nQ 24.171875 6.390625 31.78125 6.390625 \nQ 39.453125 6.390625 43.28125 13.890625 \nQ 47.125 21.390625 47.125 36.375 \nQ 47.125 51.421875 43.28125 58.90625 \nQ 39.453125 66.40625 31.78125 66.40625 \nz\nM 31.78125 74.21875 \nQ 44.046875 74.21875 50.515625 64.515625 \nQ 56.984375 54.828125 56.984375 36.375 \nQ 56.984375 17.96875 50.515625 8.265625 \nQ 44.046875 -1.421875 31.78125 -1.421875 \nQ 19.53125 -1.421875 13.0625 8.265625 \nQ 6.59375 17.96875 6.59375 36.375 \nQ 6.59375 54.828125 13.0625 64.515625 \nQ 19.53125 74.21875 31.78125 74.21875 \nz\n\" id=\"DejaVuSans-48\"/>\n      </defs>\n      <g transform=\"translate(42.140057 239.238437)scale(0.1 -0.1)\">\n       <use xlink:href=\"#DejaVuSans-48\"/>\n      </g>\n     </g>\n    </g>\n    <g id=\"xtick_2\">\n     <g id=\"line2d_2\">\n      <g>\n       <use style=\"stroke:#000000;stroke-width:0.8;\" x=\"106.200122\" xlink:href=\"#mb68bbb4511\" y=\"224.64\"/>\n      </g>\n     </g>\n     <g id=\"text_2\">\n      <!-- 2000 -->\n      <defs>\n       <path d=\"M 19.1875 8.296875 \nL 53.609375 8.296875 \nL 53.609375 0 \nL 7.328125 0 \nL 7.328125 8.296875 \nQ 12.9375 14.109375 22.625 23.890625 \nQ 32.328125 33.6875 34.8125 36.53125 \nQ 39.546875 41.84375 41.421875 45.53125 \nQ 43.3125 49.21875 43.3125 52.78125 \nQ 43.3125 58.59375 39.234375 62.25 \nQ 35.15625 65.921875 28.609375 65.921875 \nQ 23.96875 65.921875 18.8125 64.3125 \nQ 13.671875 62.703125 7.8125 59.421875 \nL 7.8125 69.390625 \nQ 13.765625 71.78125 18.9375 73 \nQ 24.125 74.21875 28.421875 74.21875 \nQ 39.75 74.21875 46.484375 68.546875 \nQ 53.21875 62.890625 53.21875 53.421875 \nQ 53.21875 48.921875 51.53125 44.890625 \nQ 49.859375 40.875 45.40625 35.40625 \nQ 44.1875 33.984375 37.640625 27.21875 \nQ 31.109375 20.453125 19.1875 8.296875 \nz\n\" id=\"DejaVuSans-50\"/>\n      </defs>\n      <g transform=\"translate(93.475122 239.238437)scale(0.1 -0.1)\">\n       <use xlink:href=\"#DejaVuSans-50\"/>\n       <use x=\"63.623047\" xlink:href=\"#DejaVuSans-48\"/>\n       <use x=\"127.246094\" xlink:href=\"#DejaVuSans-48\"/>\n       <use x=\"190.869141\" xlink:href=\"#DejaVuSans-48\"/>\n      </g>\n     </g>\n    </g>\n    <g id=\"xtick_3\">\n     <g id=\"line2d_3\">\n      <g>\n       <use style=\"stroke:#000000;stroke-width:0.8;\" x=\"167.078937\" xlink:href=\"#mb68bbb4511\" y=\"224.64\"/>\n      </g>\n     </g>\n     <g id=\"text_3\">\n      <!-- 4000 -->\n      <defs>\n       <path d=\"M 37.796875 64.3125 \nL 12.890625 25.390625 \nL 37.796875 25.390625 \nz\nM 35.203125 72.90625 \nL 47.609375 72.90625 \nL 47.609375 25.390625 \nL 58.015625 25.390625 \nL 58.015625 17.1875 \nL 47.609375 17.1875 \nL 47.609375 0 \nL 37.796875 0 \nL 37.796875 17.1875 \nL 4.890625 17.1875 \nL 4.890625 26.703125 \nz\n\" id=\"DejaVuSans-52\"/>\n      </defs>\n      <g transform=\"translate(154.353937 239.238437)scale(0.1 -0.1)\">\n       <use xlink:href=\"#DejaVuSans-52\"/>\n       <use x=\"63.623047\" xlink:href=\"#DejaVuSans-48\"/>\n       <use x=\"127.246094\" xlink:href=\"#DejaVuSans-48\"/>\n       <use x=\"190.869141\" xlink:href=\"#DejaVuSans-48\"/>\n      </g>\n     </g>\n    </g>\n    <g id=\"xtick_4\">\n     <g id=\"line2d_4\">\n      <g>\n       <use style=\"stroke:#000000;stroke-width:0.8;\" x=\"227.957752\" xlink:href=\"#mb68bbb4511\" y=\"224.64\"/>\n      </g>\n     </g>\n     <g id=\"text_4\">\n      <!-- 6000 -->\n      <defs>\n       <path d=\"M 33.015625 40.375 \nQ 26.375 40.375 22.484375 35.828125 \nQ 18.609375 31.296875 18.609375 23.390625 \nQ 18.609375 15.53125 22.484375 10.953125 \nQ 26.375 6.390625 33.015625 6.390625 \nQ 39.65625 6.390625 43.53125 10.953125 \nQ 47.40625 15.53125 47.40625 23.390625 \nQ 47.40625 31.296875 43.53125 35.828125 \nQ 39.65625 40.375 33.015625 40.375 \nz\nM 52.59375 71.296875 \nL 52.59375 62.3125 \nQ 48.875 64.0625 45.09375 64.984375 \nQ 41.3125 65.921875 37.59375 65.921875 \nQ 27.828125 65.921875 22.671875 59.328125 \nQ 17.53125 52.734375 16.796875 39.40625 \nQ 19.671875 43.65625 24.015625 45.921875 \nQ 28.375 48.1875 33.59375 48.1875 \nQ 44.578125 48.1875 50.953125 41.515625 \nQ 57.328125 34.859375 57.328125 23.390625 \nQ 57.328125 12.15625 50.6875 5.359375 \nQ 44.046875 -1.421875 33.015625 -1.421875 \nQ 20.359375 -1.421875 13.671875 8.265625 \nQ 6.984375 17.96875 6.984375 36.375 \nQ 6.984375 53.65625 15.1875 63.9375 \nQ 23.390625 74.21875 37.203125 74.21875 \nQ 40.921875 74.21875 44.703125 73.484375 \nQ 48.484375 72.75 52.59375 71.296875 \nz\n\" id=\"DejaVuSans-54\"/>\n      </defs>\n      <g transform=\"translate(215.232752 239.238437)scale(0.1 -0.1)\">\n       <use xlink:href=\"#DejaVuSans-54\"/>\n       <use x=\"63.623047\" xlink:href=\"#DejaVuSans-48\"/>\n       <use x=\"127.246094\" xlink:href=\"#DejaVuSans-48\"/>\n       <use x=\"190.869141\" xlink:href=\"#DejaVuSans-48\"/>\n      </g>\n     </g>\n    </g>\n    <g id=\"xtick_5\">\n     <g id=\"line2d_5\">\n      <g>\n       <use style=\"stroke:#000000;stroke-width:0.8;\" x=\"288.836567\" xlink:href=\"#mb68bbb4511\" y=\"224.64\"/>\n      </g>\n     </g>\n     <g id=\"text_5\">\n      <!-- 8000 -->\n      <defs>\n       <path d=\"M 31.78125 34.625 \nQ 24.75 34.625 20.71875 30.859375 \nQ 16.703125 27.09375 16.703125 20.515625 \nQ 16.703125 13.921875 20.71875 10.15625 \nQ 24.75 6.390625 31.78125 6.390625 \nQ 38.8125 6.390625 42.859375 10.171875 \nQ 46.921875 13.96875 46.921875 20.515625 \nQ 46.921875 27.09375 42.890625 30.859375 \nQ 38.875 34.625 31.78125 34.625 \nz\nM 21.921875 38.8125 \nQ 15.578125 40.375 12.03125 44.71875 \nQ 8.5 49.078125 8.5 55.328125 \nQ 8.5 64.0625 14.71875 69.140625 \nQ 20.953125 74.21875 31.78125 74.21875 \nQ 42.671875 74.21875 48.875 69.140625 \nQ 55.078125 64.0625 55.078125 55.328125 \nQ 55.078125 49.078125 51.53125 44.71875 \nQ 48 40.375 41.703125 38.8125 \nQ 48.828125 37.15625 52.796875 32.3125 \nQ 56.78125 27.484375 56.78125 20.515625 \nQ 56.78125 9.90625 50.3125 4.234375 \nQ 43.84375 -1.421875 31.78125 -1.421875 \nQ 19.734375 -1.421875 13.25 4.234375 \nQ 6.78125 9.90625 6.78125 20.515625 \nQ 6.78125 27.484375 10.78125 32.3125 \nQ 14.796875 37.15625 21.921875 38.8125 \nz\nM 18.3125 54.390625 \nQ 18.3125 48.734375 21.84375 45.5625 \nQ 25.390625 42.390625 31.78125 42.390625 \nQ 38.140625 42.390625 41.71875 45.5625 \nQ 45.3125 48.734375 45.3125 54.390625 \nQ 45.3125 60.0625 41.71875 63.234375 \nQ 38.140625 66.40625 31.78125 66.40625 \nQ 25.390625 66.40625 21.84375 63.234375 \nQ 18.3125 60.0625 18.3125 54.390625 \nz\n\" id=\"DejaVuSans-56\"/>\n      </defs>\n      <g transform=\"translate(276.111567 239.238437)scale(0.1 -0.1)\">\n       <use xlink:href=\"#DejaVuSans-56\"/>\n       <use x=\"63.623047\" xlink:href=\"#DejaVuSans-48\"/>\n       <use x=\"127.246094\" xlink:href=\"#DejaVuSans-48\"/>\n       <use x=\"190.869141\" xlink:href=\"#DejaVuSans-48\"/>\n      </g>\n     </g>\n    </g>\n    <g id=\"xtick_6\">\n     <g id=\"line2d_6\">\n      <g>\n       <use style=\"stroke:#000000;stroke-width:0.8;\" x=\"349.715383\" xlink:href=\"#mb68bbb4511\" y=\"224.64\"/>\n      </g>\n     </g>\n     <g id=\"text_6\">\n      <!-- 10000 -->\n      <defs>\n       <path d=\"M 12.40625 8.296875 \nL 28.515625 8.296875 \nL 28.515625 63.921875 \nL 10.984375 60.40625 \nL 10.984375 69.390625 \nL 28.421875 72.90625 \nL 38.28125 72.90625 \nL 38.28125 8.296875 \nL 54.390625 8.296875 \nL 54.390625 0 \nL 12.40625 0 \nz\n\" id=\"DejaVuSans-49\"/>\n      </defs>\n      <g transform=\"translate(333.809133 239.238437)scale(0.1 -0.1)\">\n       <use xlink:href=\"#DejaVuSans-49\"/>\n       <use x=\"63.623047\" xlink:href=\"#DejaVuSans-48\"/>\n       <use x=\"127.246094\" xlink:href=\"#DejaVuSans-48\"/>\n       <use x=\"190.869141\" xlink:href=\"#DejaVuSans-48\"/>\n       <use x=\"254.492188\" xlink:href=\"#DejaVuSans-48\"/>\n      </g>\n     </g>\n    </g>\n   </g>\n   <g id=\"matplotlib.axis_2\">\n    <g id=\"ytick_1\">\n     <g id=\"line2d_7\">\n      <defs>\n       <path d=\"M 0 0 \nL -3.5 0 \n\" id=\"mef095ff4a1\" style=\"stroke:#000000;stroke-width:0.8;\"/>\n      </defs>\n      <g>\n       <use style=\"stroke:#000000;stroke-width:0.8;\" x=\"30.103125\" xlink:href=\"#mef095ff4a1\" y=\"217.001949\"/>\n      </g>\n     </g>\n     <g id=\"text_7\">\n      <!-- 0.0 -->\n      <defs>\n       <path d=\"M 10.6875 12.40625 \nL 21 12.40625 \nL 21 0 \nL 10.6875 0 \nz\n\" id=\"DejaVuSans-46\"/>\n      </defs>\n      <g transform=\"translate(7.2 220.801168)scale(0.1 -0.1)\">\n       <use xlink:href=\"#DejaVuSans-48\"/>\n       <use x=\"63.623047\" xlink:href=\"#DejaVuSans-46\"/>\n       <use x=\"95.410156\" xlink:href=\"#DejaVuSans-48\"/>\n      </g>\n     </g>\n    </g>\n    <g id=\"ytick_2\">\n     <g id=\"line2d_8\">\n      <g>\n       <use style=\"stroke:#000000;stroke-width:0.8;\" x=\"30.103125\" xlink:href=\"#mef095ff4a1\" y=\"190.399269\"/>\n      </g>\n     </g>\n     <g id=\"text_8\">\n      <!-- 0.5 -->\n      <defs>\n       <path d=\"M 10.796875 72.90625 \nL 49.515625 72.90625 \nL 49.515625 64.59375 \nL 19.828125 64.59375 \nL 19.828125 46.734375 \nQ 21.96875 47.46875 24.109375 47.828125 \nQ 26.265625 48.1875 28.421875 48.1875 \nQ 40.625 48.1875 47.75 41.5 \nQ 54.890625 34.8125 54.890625 23.390625 \nQ 54.890625 11.625 47.5625 5.09375 \nQ 40.234375 -1.421875 26.90625 -1.421875 \nQ 22.3125 -1.421875 17.546875 -0.640625 \nQ 12.796875 0.140625 7.71875 1.703125 \nL 7.71875 11.625 \nQ 12.109375 9.234375 16.796875 8.0625 \nQ 21.484375 6.890625 26.703125 6.890625 \nQ 35.15625 6.890625 40.078125 11.328125 \nQ 45.015625 15.765625 45.015625 23.390625 \nQ 45.015625 31 40.078125 35.4375 \nQ 35.15625 39.890625 26.703125 39.890625 \nQ 22.75 39.890625 18.8125 39.015625 \nQ 14.890625 38.140625 10.796875 36.28125 \nz\n\" id=\"DejaVuSans-53\"/>\n      </defs>\n      <g transform=\"translate(7.2 194.198488)scale(0.1 -0.1)\">\n       <use xlink:href=\"#DejaVuSans-48\"/>\n       <use x=\"63.623047\" xlink:href=\"#DejaVuSans-46\"/>\n       <use x=\"95.410156\" xlink:href=\"#DejaVuSans-53\"/>\n      </g>\n     </g>\n    </g>\n    <g id=\"ytick_3\">\n     <g id=\"line2d_9\">\n      <g>\n       <use style=\"stroke:#000000;stroke-width:0.8;\" x=\"30.103125\" xlink:href=\"#mef095ff4a1\" y=\"163.796589\"/>\n      </g>\n     </g>\n     <g id=\"text_9\">\n      <!-- 1.0 -->\n      <g transform=\"translate(7.2 167.595808)scale(0.1 -0.1)\">\n       <use xlink:href=\"#DejaVuSans-49\"/>\n       <use x=\"63.623047\" xlink:href=\"#DejaVuSans-46\"/>\n       <use x=\"95.410156\" xlink:href=\"#DejaVuSans-48\"/>\n      </g>\n     </g>\n    </g>\n    <g id=\"ytick_4\">\n     <g id=\"line2d_10\">\n      <g>\n       <use style=\"stroke:#000000;stroke-width:0.8;\" x=\"30.103125\" xlink:href=\"#mef095ff4a1\" y=\"137.193909\"/>\n      </g>\n     </g>\n     <g id=\"text_10\">\n      <!-- 1.5 -->\n      <g transform=\"translate(7.2 140.993128)scale(0.1 -0.1)\">\n       <use xlink:href=\"#DejaVuSans-49\"/>\n       <use x=\"63.623047\" xlink:href=\"#DejaVuSans-46\"/>\n       <use x=\"95.410156\" xlink:href=\"#DejaVuSans-53\"/>\n      </g>\n     </g>\n    </g>\n    <g id=\"ytick_5\">\n     <g id=\"line2d_11\">\n      <g>\n       <use style=\"stroke:#000000;stroke-width:0.8;\" x=\"30.103125\" xlink:href=\"#mef095ff4a1\" y=\"110.591229\"/>\n      </g>\n     </g>\n     <g id=\"text_11\">\n      <!-- 2.0 -->\n      <g transform=\"translate(7.2 114.390448)scale(0.1 -0.1)\">\n       <use xlink:href=\"#DejaVuSans-50\"/>\n       <use x=\"63.623047\" xlink:href=\"#DejaVuSans-46\"/>\n       <use x=\"95.410156\" xlink:href=\"#DejaVuSans-48\"/>\n      </g>\n     </g>\n    </g>\n    <g id=\"ytick_6\">\n     <g id=\"line2d_12\">\n      <g>\n       <use style=\"stroke:#000000;stroke-width:0.8;\" x=\"30.103125\" xlink:href=\"#mef095ff4a1\" y=\"83.988549\"/>\n      </g>\n     </g>\n     <g id=\"text_12\">\n      <!-- 2.5 -->\n      <g transform=\"translate(7.2 87.787767)scale(0.1 -0.1)\">\n       <use xlink:href=\"#DejaVuSans-50\"/>\n       <use x=\"63.623047\" xlink:href=\"#DejaVuSans-46\"/>\n       <use x=\"95.410156\" xlink:href=\"#DejaVuSans-53\"/>\n      </g>\n     </g>\n    </g>\n    <g id=\"ytick_7\">\n     <g id=\"line2d_13\">\n      <g>\n       <use style=\"stroke:#000000;stroke-width:0.8;\" x=\"30.103125\" xlink:href=\"#mef095ff4a1\" y=\"57.385869\"/>\n      </g>\n     </g>\n     <g id=\"text_13\">\n      <!-- 3.0 -->\n      <defs>\n       <path d=\"M 40.578125 39.3125 \nQ 47.65625 37.796875 51.625 33 \nQ 55.609375 28.21875 55.609375 21.1875 \nQ 55.609375 10.40625 48.1875 4.484375 \nQ 40.765625 -1.421875 27.09375 -1.421875 \nQ 22.515625 -1.421875 17.65625 -0.515625 \nQ 12.796875 0.390625 7.625 2.203125 \nL 7.625 11.71875 \nQ 11.71875 9.328125 16.59375 8.109375 \nQ 21.484375 6.890625 26.8125 6.890625 \nQ 36.078125 6.890625 40.9375 10.546875 \nQ 45.796875 14.203125 45.796875 21.1875 \nQ 45.796875 27.640625 41.28125 31.265625 \nQ 36.765625 34.90625 28.71875 34.90625 \nL 20.21875 34.90625 \nL 20.21875 43.015625 \nL 29.109375 43.015625 \nQ 36.375 43.015625 40.234375 45.921875 \nQ 44.09375 48.828125 44.09375 54.296875 \nQ 44.09375 59.90625 40.109375 62.90625 \nQ 36.140625 65.921875 28.71875 65.921875 \nQ 24.65625 65.921875 20.015625 65.03125 \nQ 15.375 64.15625 9.8125 62.3125 \nL 9.8125 71.09375 \nQ 15.4375 72.65625 20.34375 73.4375 \nQ 25.25 74.21875 29.59375 74.21875 \nQ 40.828125 74.21875 47.359375 69.109375 \nQ 53.90625 64.015625 53.90625 55.328125 \nQ 53.90625 49.265625 50.4375 45.09375 \nQ 46.96875 40.921875 40.578125 39.3125 \nz\n\" id=\"DejaVuSans-51\"/>\n      </defs>\n      <g transform=\"translate(7.2 61.185087)scale(0.1 -0.1)\">\n       <use xlink:href=\"#DejaVuSans-51\"/>\n       <use x=\"63.623047\" xlink:href=\"#DejaVuSans-46\"/>\n       <use x=\"95.410156\" xlink:href=\"#DejaVuSans-48\"/>\n      </g>\n     </g>\n    </g>\n    <g id=\"ytick_8\">\n     <g id=\"line2d_14\">\n      <g>\n       <use style=\"stroke:#000000;stroke-width:0.8;\" x=\"30.103125\" xlink:href=\"#mef095ff4a1\" y=\"30.783189\"/>\n      </g>\n     </g>\n     <g id=\"text_14\">\n      <!-- 3.5 -->\n      <g transform=\"translate(7.2 34.582407)scale(0.1 -0.1)\">\n       <use xlink:href=\"#DejaVuSans-51\"/>\n       <use x=\"63.623047\" xlink:href=\"#DejaVuSans-46\"/>\n       <use x=\"95.410156\" xlink:href=\"#DejaVuSans-53\"/>\n      </g>\n     </g>\n    </g>\n   </g>\n   <g id=\"line2d_15\">\n    <path clip-path=\"url(#p523cff1249)\" d=\"M 45.321307 17.497147 \nL 45.351746 17.083636 \nL 45.382186 18.096025 \nL 45.412625 17.920653 \nL 45.443064 18.136859 \nL 45.503943 20.418866 \nL 45.625701 20.281803 \nL 45.65614 20.284048 \nL 45.747459 22.700327 \nL 45.838777 22.360353 \nL 45.899656 21.96105 \nL 45.930095 22.403152 \nL 45.960534 22.071956 \nL 46.021413 21.597849 \nL 46.051853 22.448933 \nL 46.112731 21.783635 \nL 46.17361 21.305875 \nL 46.20405 22.097136 \nL 46.264928 21.667541 \nL 46.295368 21.450701 \nL 46.356247 24.610533 \nL 46.417125 23.612757 \nL 46.447565 23.822646 \nL 46.538883 26.431473 \nL 46.599762 25.665214 \nL 46.630201 24.506756 \nL 46.69108 25.884477 \nL 46.782398 27.321323 \nL 46.812838 29.296578 \nL 46.904156 28.502348 \nL 47.086792 26.654858 \nL 47.117232 26.898312 \nL 47.238989 28.259897 \nL 47.299868 27.882857 \nL 47.360747 27.989907 \nL 47.391187 28.272976 \nL 47.543384 34.947418 \nL 47.573823 34.746954 \nL 47.634702 34.570555 \nL 47.695581 36.056049 \nL 47.72602 36.623912 \nL 47.817338 36.342454 \nL 47.878217 35.707689 \nL 47.908656 36.532503 \nL 48.060854 35.570753 \nL 48.091293 37.602952 \nL 48.182611 37.545716 \nL 48.334808 39.648977 \nL 48.365248 39.449554 \nL 48.487005 44.221148 \nL 48.517445 44.212205 \nL 48.547884 44.266865 \nL 48.913157 49.310301 \nL 49.095793 50.85208 \nL 49.156672 50.709143 \nL 49.187112 50.508464 \nL 49.217551 51.542836 \nL 49.308869 50.927391 \nL 49.369748 50.67398 \nL 49.430627 50.775537 \nL 49.643703 54.858302 \nL 49.856779 54.172493 \nL 49.887218 54.133486 \nL 49.917657 54.894772 \nL 50.008976 54.856831 \nL 50.039415 54.747333 \nL 50.069854 54.800458 \nL 50.191612 58.715982 \nL 50.28293 58.201562 \nL 50.31337 57.768123 \nL 50.435127 59.121514 \nL 50.617764 58.679715 \nL 50.769961 60.068346 \nL 50.8004 59.875252 \nL 50.83084 60.313664 \nL 50.891718 59.909642 \nL 50.952597 59.751128 \nL 50.983037 59.864597 \nL 51.013476 59.590052 \nL 51.043915 59.960674 \nL 51.074355 59.648049 \nL 51.104794 59.921731 \nL 51.165673 59.660011 \nL 51.226552 58.664709 \nL 51.31787 58.861481 \nL 51.378749 58.637322 \nL 51.500507 64.887737 \nL 51.530946 64.715651 \nL 51.652704 66.972744 \nL 51.683143 68.945437 \nL 51.774461 68.573001 \nL 51.804901 68.597343 \nL 51.83534 68.422555 \nL 51.865779 68.558324 \nL 51.957098 69.696093 \nL 51.987537 69.653217 \nL 52.109295 73.045048 \nL 52.139734 72.990857 \nL 52.170174 73.083572 \nL 52.291931 75.919058 \nL 52.322371 75.769335 \nL 52.444128 76.306602 \nL 52.505007 75.912525 \nL 52.657204 79.969958 \nL 52.83984 78.873745 \nL 52.961598 80.686732 \nL 53.235553 79.896625 \nL 53.265992 79.950588 \nL 53.296432 79.754044 \nL 53.326871 79.957717 \nL 53.418189 80.214464 \nL 53.448629 80.061024 \nL 53.479068 79.910718 \nL 53.539947 81.576113 \nL 53.600826 81.22717 \nL 53.661704 80.778509 \nL 53.692144 80.883212 \nL 53.844341 83.430732 \nL 53.90522 83.058601 \nL 53.996538 85.372853 \nL 54.057417 88.86959 \nL 54.148735 88.849535 \nL 54.209614 88.786617 \nL 54.39225 91.379892 \nL 54.453129 91.163115 \nL 54.483568 90.957159 \nL 54.514008 90.995608 \nL 54.544447 91.544646 \nL 54.635766 91.18539 \nL 54.666205 91.013913 \nL 54.696644 91.826878 \nL 54.787963 91.595704 \nL 54.848841 91.068903 \nL 54.879281 91.072746 \nL 54.970599 95.092212 \nL 55.031478 94.807456 \nL 55.092357 94.512336 \nL 55.122796 94.594714 \nL 55.366311 98.018244 \nL 55.396751 98.030968 \nL 55.548948 100.379204 \nL 55.579387 100.049365 \nL 55.609827 100.116418 \nL 55.640266 99.865506 \nL 55.762024 101.773073 \nL 55.792463 101.753665 \nL 55.822902 101.863835 \nL 55.853342 101.58409 \nL 55.914221 101.25987 \nL 56.035978 103.549831 \nL 56.188175 102.986585 \nL 56.218615 103.116785 \nL 56.249054 103.154168 \nL 56.309933 102.683042 \nL 56.340372 103.106904 \nL 56.523009 108.596489 \nL 56.553448 108.514848 \nL 56.583888 108.382085 \nL 56.796963 111.247463 \nL 56.827403 111.11699 \nL 56.857842 111.229748 \nL 56.888282 112.627258 \nL 56.9796 112.166699 \nL 57.010039 111.956277 \nL 57.131797 113.11903 \nL 57.162236 112.837717 \nL 57.192676 113.170747 \nL 57.375312 114.39095 \nL 57.527509 115.608223 \nL 57.618827 115.152947 \nL 57.649267 115.687994 \nL 57.740585 115.494983 \nL 57.771025 115.71273 \nL 57.831903 115.355491 \nL 57.862343 115.301274 \nL 57.892782 115.334573 \nL 58.01454 117.25759 \nL 58.044979 117.216332 \nL 58.075419 117.189864 \nL 58.136297 117.96102 \nL 58.50157 122.451917 \nL 58.53201 122.431449 \nL 58.562449 122.354368 \nL 58.592889 122.457511 \nL 58.684207 122.405083 \nL 58.775525 123.239449 \nL 58.866843 124.162572 \nL 58.927722 124.087895 \nL 59.079919 124.458339 \nL 59.110358 124.85494 \nL 59.201677 124.777979 \nL 59.262555 125.046689 \nL 59.445192 126.620021 \nL 59.475631 126.490855 \nL 59.506071 126.854417 \nL 59.56695 126.565037 \nL 59.597389 126.53628 \nL 59.749586 127.442304 \nL 59.840904 128.327455 \nL 59.871344 128.18481 \nL 59.932222 127.969499 \nL 60.145298 129.585802 \nL 60.175738 129.58324 \nL 60.358374 130.427487 \nL 60.388814 130.312204 \nL 60.541011 132.534388 \nL 60.601889 133.061297 \nL 60.662768 132.816741 \nL 60.723647 132.486882 \nL 60.875844 133.485933 \nL 60.997602 133.342318 \nL 61.028041 133.382745 \nL 61.149799 134.20355 \nL 61.180238 134.107194 \nL 61.241117 133.983089 \nL 61.271556 134.267858 \nL 61.362875 134.117482 \nL 61.393314 133.994087 \nL 61.758587 136.970016 \nL 61.819466 136.80679 \nL 61.880345 137.899691 \nL 61.941223 137.427049 \nL 62.12386 137.294299 \nL 62.215178 138.672147 \nL 62.276057 138.540913 \nL 62.306496 138.440123 \nL 62.336936 138.564032 \nL 62.580451 139.828893 \nL 62.61089 139.736748 \nL 62.64133 139.640785 \nL 62.671769 139.844102 \nL 63.037042 142.050278 \nL 63.097921 141.999499 \nL 63.1588 142.133518 \nL 63.493633 143.876571 \nL 63.554512 143.726873 \nL 63.64583 143.514505 \nL 63.858906 144.475532 \nL 64.041542 143.915489 \nL 64.102421 143.996934 \nL 64.224179 144.419977 \nL 64.285058 144.336541 \nL 64.315497 144.27217 \nL 64.345937 144.376359 \nL 64.376376 144.452698 \nL 64.559012 145.898171 \nL 64.589452 145.855409 \nL 64.68077 146.650115 \nL 64.741649 146.526054 \nL 64.772088 146.436636 \nL 64.893846 147.265585 \nL 64.954725 147.065534 \nL 65.015604 146.912621 \nL 65.046043 147.114867 \nL 65.380876 149.338573 \nL 65.441755 149.281255 \nL 65.502634 149.183395 \nL 65.533073 149.21358 \nL 65.898346 150.147054 \nL 65.928786 150.053007 \nL 65.989665 149.942075 \nL 66.172301 151.602821 \nL 66.324498 151.059877 \nL 66.354937 151.067286 \nL 66.415816 151.510733 \nL 66.476695 151.476141 \nL 66.507134 151.437781 \nL 66.537574 151.587174 \nL 66.568013 151.536382 \nL 66.72021 153.266903 \nL 66.811529 153.398796 \nL 66.841968 153.37106 \nL 66.872407 153.306778 \nL 67.055044 154.72109 \nL 67.176801 154.764486 \nL 67.23768 155.881425 \nL 67.328998 155.782323 \nL 67.359438 155.560954 \nL 67.450756 155.690533 \nL 67.481196 155.592401 \nL 67.511635 155.72635 \nL 67.542074 155.845336 \nL 67.572514 155.798401 \nL 67.724711 155.35269 \nL 67.75515 155.357529 \nL 67.78559 155.483886 \nL 67.846468 155.286384 \nL 67.876908 155.232212 \nL 68.120423 156.583193 \nL 68.150863 156.514319 \nL 68.242181 156.253455 \nL 68.27262 156.507234 \nL 68.30306 156.457027 \nL 68.637893 158.083567 \nL 68.729211 157.937631 \nL 68.820529 157.452481 \nL 68.850969 157.556892 \nL 68.911848 157.627802 \nL 68.942287 157.599857 \nL 69.033605 157.556968 \nL 69.124924 157.822817 \nL 69.216242 157.732861 \nL 69.398878 157.54507 \nL 69.429318 158.029071 \nL 69.520636 157.789798 \nL 69.581515 157.735575 \nL 69.642393 157.66001 \nL 69.885909 159.074987 \nL 69.916348 159.022147 \nL 69.946788 158.988195 \nL 69.977227 159.091148 \nL 70.007666 159.067738 \nL 70.220742 159.089632 \nL 70.3425 159.849238 \nL 70.372939 159.765712 \nL 70.433818 159.793639 \nL 70.799091 161.15858 \nL 70.951288 161.944887 \nL 70.981727 161.909534 \nL 71.012167 162.083726 \nL 71.073046 161.990668 \nL 71.133924 161.868726 \nL 71.164364 161.928891 \nL 71.37744 162.791741 \nL 71.499197 163.153312 \nL 71.529637 163.119253 \nL 71.86447 162.793042 \nL 71.89491 163.297378 \nL 71.986228 163.165636 \nL 72.016667 163.133993 \nL 72.534137 165.494236 \nL 72.564577 165.467654 \nL 72.655895 165.51548 \nL 72.686334 165.607295 \nL 72.838531 166.535515 \nL 72.929849 166.528028 \nL 73.112486 166.980427 \nL 73.173365 167.121464 \nL 73.203804 167.019751 \nL 73.356001 166.844557 \nL 73.477759 166.812822 \nL 73.629956 168.039165 \nL 73.690835 168.145761 \nL 73.751713 168.105505 \nL 73.782153 168.024406 \nL 73.873471 168.087121 \nL 73.903911 168.132835 \nL 73.964789 168.08486 \nL 74.116986 167.845117 \nL 74.147426 167.980984 \nL 74.330062 168.32492 \nL 74.45182 168.049557 \nL 74.573577 168.485054 \nL 74.604017 168.443894 \nL 74.664896 168.385672 \nL 74.817093 169.398413 \nL 74.999729 169.300008 \nL 75.030169 169.587891 \nL 75.091047 169.187335 \nL 75.121487 169.183473 \nL 75.273684 170.34404 \nL 75.365002 170.411474 \nL 76.065108 172.606201 \nL 76.095548 172.56753 \nL 76.217306 172.500819 \nL 76.247745 172.594778 \nL 76.460821 172.458749 \nL 76.613018 172.96958 \nL 76.765215 172.846287 \nL 76.886972 173.30612 \nL 76.917412 173.298258 \nL 76.947851 173.53614 \nL 77.03917 173.488275 \nL 77.069609 173.475952 \nL 77.434882 174.862641 \nL 77.495761 174.787311 \nL 77.769715 174.784336 \nL 77.952352 174.708875 \nL 78.165428 177.019034 \nL 78.256746 176.948343 \nL 78.317625 176.925918 \nL 78.682898 178.663362 \nL 78.743776 178.579142 \nL 78.774216 178.661595 \nL 78.804655 178.713744 \nL 78.865534 178.460716 \nL 78.926413 178.531281 \nL 79.07861 178.374771 \nL 79.261246 178.64553 \nL 79.383004 178.81031 \nL 79.504762 178.471175 \nL 79.56564 178.791691 \nL 79.626519 178.737928 \nL 79.687398 178.716823 \nL 79.748277 180.591919 \nL 79.809156 180.532277 \nL 79.961353 180.961637 \nL 80.11355 181.025187 \nL 80.265747 181.305877 \nL 80.357065 181.21254 \nL 80.387504 181.251154 \nL 80.661459 183.055917 \nL 80.783217 182.888616 \nL 80.844095 182.728659 \nL 80.874535 182.859145 \nL 80.904974 183.076648 \nL 80.996292 183.033468 \nL 81.14849 183.015331 \nL 81.270247 183.428718 \nL 81.300687 183.415081 \nL 81.331126 183.410755 \nL 81.361565 183.684552 \nL 81.452884 183.614098 \nL 81.605081 183.637014 \nL 81.665959 183.527386 \nL 81.696399 183.688655 \nL 81.787717 183.697478 \nL 82.000793 184.000421 \nL 82.092111 183.844067 \nL 82.122551 184.007554 \nL 82.213869 183.957993 \nL 82.792218 184.733322 \nL 82.822657 184.701729 \nL 82.913975 184.452507 \nL 82.974854 184.568059 \nL 83.309687 184.835992 \nL 83.522763 185.551228 \nL 83.553203 185.511511 \nL 83.614082 185.999566 \nL 83.67496 185.950912 \nL 83.766279 185.878781 \nL 83.796718 186.188121 \nL 83.888036 186.1107 \nL 83.948915 186.039879 \nL 84.070673 186.291216 \nL 84.161991 186.269854 \nL 84.375067 186.828692 \nL 84.405506 186.832012 \nL 84.527264 187.447613 \nL 84.588143 187.407706 \nL 84.7099 187.263571 \nL 84.74034 187.456784 \nL 84.831658 187.414942 \nL 84.922976 187.488745 \nL 85.075173 188.231194 \nL 85.105613 188.219955 \nL 85.288249 188.847869 \nL 85.379567 188.964236 \nL 85.440446 189.349078 \nL 85.501325 189.254546 \nL 85.531764 189.286138 \nL 85.623082 189.661463 \nL 85.653522 189.635963 \nL 85.683961 189.578832 \nL 85.866598 190.333782 \nL 86.170992 190.754536 \nL 86.201431 190.679338 \nL 86.231871 190.647065 \nL 86.26231 190.748577 \nL 86.384068 190.807406 \nL 86.627583 190.862615 \nL 86.77978 191.167703 \nL 86.931977 191.118552 \nL 86.962416 191.096269 \nL 87.084174 191.404789 \nL 87.114613 191.376739 \nL 87.26681 191.417855 \nL 87.358129 191.334391 \nL 87.419007 191.384402 \nL 87.662523 191.630856 \nL 87.692962 191.768317 \nL 87.78428 191.708424 \nL 87.81472 191.726224 \nL 87.936477 191.968009 \nL 88.027796 192.062002 \nL 88.088674 192.651231 \nL 88.149553 192.63417 \nL 88.393069 192.661392 \nL 88.545266 193.513601 \nL 88.697463 193.439551 \nL 88.84966 193.754931 \nL 89.093175 193.836065 \nL 89.214933 194.171315 \nL 89.245372 194.17058 \nL 89.36713 194.376719 \nL 89.671524 194.389122 \nL 90.036797 194.275593 \nL 90.097675 194.185942 \nL 90.128115 194.294958 \nL 90.341191 194.357813 \nL 90.462948 194.41658 \nL 90.736903 194.626331 \nL 90.858661 195.041245 \nL 90.8891 195.009111 \nL 91.071736 195.095278 \nL 91.102176 195.150741 \nL 91.163055 195.798973 \nL 91.254373 195.693924 \nL 91.345691 195.687946 \nL 91.467449 195.884038 \nL 91.619646 195.846934 \nL 91.771843 195.727015 \nL 91.802282 196.003503 \nL 91.8936 195.910071 \nL 91.92404 195.91218 \nL 91.954479 196.072767 \nL 92.045797 195.993961 \nL 92.167555 196.029922 \nL 92.228434 195.948095 \nL 92.289313 196.011679 \nL 92.837222 196.167838 \nL 92.989419 196.142339 \nL 93.202495 196.190982 \nL 93.324253 196.464104 \nL 93.537328 196.575589 \nL 93.689525 196.652643 \nL 93.99392 197.261849 \nL 94.054798 197.341333 \nL 94.267874 197.539887 \nL 94.359192 197.466779 \nL 94.450511 197.442319 \nL 94.602708 197.525806 \nL 94.785344 197.456225 \nL 94.846223 197.356799 \nL 94.907102 197.420951 \nL 95.241935 197.484757 \nL 95.272375 197.392597 \nL 95.333253 197.494029 \nL 95.485451 198.392778 \nL 95.637648 198.279223 \nL 96.246436 198.357524 \nL 96.368193 198.509416 \nL 96.976981 198.830014 \nL 97.0683 199.163817 \nL 97.098739 199.109258 \nL 97.311815 199.131343 \nL 97.58577 199.403497 \nL 97.677088 199.418747 \nL 97.829285 199.780953 \nL 98.10324 199.906425 \nL 98.285876 200.05232 \nL 98.894664 200.928156 \nL 99.473013 201.243725 \nL 99.655649 201.315036 \nL 99.807846 201.431985 \nL 99.899165 201.463363 \nL 100.081801 201.98568 \nL 100.203559 202.016979 \nL 100.477513 202.498812 \nL 100.507953 202.399048 \nL 100.568832 202.404219 \nL 100.781907 202.921785 \nL 101.360256 203.887554 \nL 101.482014 204.745813 \nL 101.634211 204.867714 \nL 101.816847 205.061147 \nL 102.151681 205.255722 \nL 102.273438 205.299282 \nL 103.095302 205.352585 \nL 103.21706 205.438631 \nL 103.277939 205.354066 \nL 103.369257 205.315756 \nL 103.399696 205.353994 \nL 103.643212 205.6144 \nL 103.825848 205.638263 \nL 104.130242 205.808456 \nL 104.252 205.754583 \nL 104.373758 205.912234 \nL 104.525955 205.894451 \nL 105.104303 206.290165 \nL 105.134743 206.244285 \nL 105.195622 206.328477 \nL 105.317379 206.349402 \nL 105.713091 206.652304 \nL 105.865288 206.603597 \nL 105.926167 206.775825 \nL 105.987046 206.704636 \nL 106.139243 206.767091 \nL 106.474077 206.767535 \nL 106.595834 206.924879 \nL 106.626274 206.857065 \nL 106.869789 206.863265 \nL 106.991547 206.845485 \nL 107.356819 206.937836 \nL 107.569895 206.993305 \nL 107.752532 207.208036 \nL 107.965608 207.363423 \nL 108.148244 207.483033 \nL 108.300441 207.569899 \nL 108.513517 207.633555 \nL 108.787472 207.705947 \nL 109.030987 207.917895 \nL 109.335381 207.896968 \nL 109.548457 208.130499 \nL 110.126806 208.327289 \nL 110.187684 208.250417 \nL 110.248563 208.293017 \nL 110.40076 208.302641 \nL 110.766033 208.517369 \nL 110.979109 208.604116 \nL 111.222624 208.736189 \nL 111.374821 208.639554 \nL 111.496579 208.580766 \nL 111.770534 208.643082 \nL 112.044488 208.912918 \nL 113.47514 209.621021 \nL 113.749095 209.703315 \nL 116.884354 210.197446 \nL 117.310506 210.336873 \nL 117.554021 210.410464 \nL 117.797536 210.474553 \nL 117.919294 210.579183 \nL 117.949733 210.516284 \nL 119.258628 210.892959 \nL 119.471704 210.954908 \nL 119.68478 211.039921 \nL 121.72422 211.627019 \nL 121.876417 211.619972 \nL 122.272129 211.737315 \nL 122.454766 211.823028 \nL 125.285631 212.218243 \nL 125.650903 212.216864 \nL 125.985737 212.269351 \nL 126.594525 212.372072 \nL 127.568586 212.400896 \nL 127.690344 212.440862 \nL 128.146935 212.483854 \nL 128.90792 212.547422 \nL 132.773725 212.662462 \nL 133.01724 212.65707 \nL 133.717346 212.709817 \nL 133.899983 212.700905 \nL 134.143498 212.721491 \nL 137.826666 212.892939 \nL 139.013803 212.923395 \nL 140.23138 212.975011 \nL 140.992365 212.979207 \nL 141.357638 212.963481 \nL 141.692471 213.01965 \nL 145.588715 213.009524 \nL 146.014867 213.062538 \nL 149.606717 213.116375 \nL 149.758914 213.073805 \nL 158.860297 213.276948 \nL 159.773479 213.237928 \nL 160.899737 213.248032 \nL 162.878299 213.244782 \nL 163.243572 213.262152 \nL 164.187193 213.292343 \nL 171.370894 213.268418 \nL 171.857924 213.280414 \nL 172.131879 213.328972 \nL 172.375394 213.360549 \nL 188.082128 213.40616 \nL 188.630038 213.3965 \nL 189.269265 213.409413 \nL 189.847614 213.384138 \nL 196.270329 213.283327 \nL 196.392087 213.376285 \nL 197.853178 213.266029 \nL 198.340209 213.288753 \nL 198.705482 213.282897 \nL 199.101194 213.266023 \nL 199.679543 213.280916 \nL 199.83174 213.316126 \nL 200.410088 213.270118 \nL 200.531846 213.309454 \nL 201.475468 213.309158 \nL 201.87118 213.292758 \nL 202.510408 213.300398 \nL 203.332272 213.370427 \nL 205.584788 213.338148 \nL 205.706545 213.410653 \nL 206.558849 213.391402 \nL 207.076319 213.385758 \nL 207.289395 213.377723 \nL 207.441592 213.453386 \nL 207.624228 213.506945 \nL 209.907184 213.462729 \nL 210.08982 213.568584 \nL 212.342336 213.536361 \nL 212.616291 213.640672 \nL 213.499034 213.620278 \nL 213.803428 213.681168 \nL 214.777489 213.664383 \nL 215.051443 213.696033 \nL 215.660232 213.700701 \nL 216.542974 213.67137 \nL 217.090884 213.686038 \nL 217.243081 213.764846 \nL 219.678233 213.768888 \nL 220.104385 213.809242 \nL 221.108886 213.828988 \nL 222.296022 213.877368 \nL 226.983691 213.933227 \nL 230.301587 213.924356 \nL 232.341027 213.935971 \nL 245.308215 213.998631 \nL 245.460412 213.971122 \nL 247.499852 214.032238 \nL 254.318279 214.109535 \nL 254.531355 214.100984 \nL 256.996947 214.099683 \nL 257.483978 214.085757 \nL 258.610236 214.120923 \nL 259.340781 214.136079 \nL 260.710555 214.182474 \nL 261.441101 214.217883 \nL 266.372285 214.220043 \nL 267.285467 214.229544 \nL 267.65074 214.205358 \nL 269.17271 214.233876 \nL 270.877317 214.238104 \nL 272.76456 214.26749 \nL 276.38685 214.268425 \nL 276.782562 214.269736 \nL 278.182775 214.328913 \nL 285.731748 214.332324 \nL 288.288658 214.361508 \nL 290.23678 214.320674 \nL 291.089084 214.332155 \nL 291.971826 214.37097 \nL 307.039333 214.502379 \nL 308.652622 214.531956 \nL 310.478986 214.532641 \nL 313.553366 214.4687 \nL 313.827321 214.485201 \nL 322.867825 214.557909 \nL 323.385295 214.551586 \nL 329.534055 214.639862 \nL 329.838449 214.653388 \nL 332.36492 214.6404 \nL 334.160845 214.688466 \nL 337.326544 214.704133 \nL 345.72782 214.747915 \nL 346.032214 214.747421 \nL 347.097594 214.712099 \nL 347.28023 214.706757 \nL 348.467367 214.721384 \nL 349.684943 214.713832 \nL 349.684943 214.713832 \n\" style=\"fill:none;stroke:#1f77b4;stroke-linecap:square;stroke-width:1.5;\"/>\n   </g>\n   <g id=\"patch_3\">\n    <path d=\"M 30.103125 224.64 \nL 30.103125 7.2 \n\" style=\"fill:none;stroke:#000000;stroke-linecap:square;stroke-linejoin:miter;stroke-width:0.8;\"/>\n   </g>\n   <g id=\"patch_4\">\n    <path d=\"M 364.903125 224.64 \nL 364.903125 7.2 \n\" style=\"fill:none;stroke:#000000;stroke-linecap:square;stroke-linejoin:miter;stroke-width:0.8;\"/>\n   </g>\n   <g id=\"patch_5\">\n    <path d=\"M 30.103125 224.64 \nL 364.903125 224.64 \n\" style=\"fill:none;stroke:#000000;stroke-linecap:square;stroke-linejoin:miter;stroke-width:0.8;\"/>\n   </g>\n   <g id=\"patch_6\">\n    <path d=\"M 30.103125 7.2 \nL 364.903125 7.2 \n\" style=\"fill:none;stroke:#000000;stroke-linecap:square;stroke-linejoin:miter;stroke-width:0.8;\"/>\n   </g>\n  </g>\n </g>\n <defs>\n  <clipPath id=\"p523cff1249\">\n   <rect height=\"217.44\" width=\"334.8\" x=\"30.103125\" y=\"7.2\"/>\n  </clipPath>\n </defs>\n</svg>\n",
      "image/png": "[encoded data removed]"
     },
     "metadata": {
      "needs_background": "light"
     }
    }
   ],
   "source": [
    "plt.plot(kls)"
   ]
  },
  {
   "cell_type": "code",
   "execution_count": 81,
   "metadata": {},
   "outputs": [
    {
     "output_type": "execute_result",
     "data": {
      "text/plain": "[<matplotlib.lines.Line2D at 0x7ff579b74550>]"
     },
     "metadata": {},
     "execution_count": 81
    },
    {
     "output_type": "display_data",
     "data": {
      "text/plain": "<Figure size 432x288 with 1 Axes>",
      "image/svg+xml": "<?xml version=\"1.0\" encoding=\"utf-8\" standalone=\"no\"?>\n<!DOCTYPE svg PUBLIC \"-//W3C//DTD SVG 1.1//EN\"\n  \"http://www.w3.org/Graphics/SVG/1.1/DTD/svg11.dtd\">\n<!-- Created with matplotlib (https://matplotlib.org/) -->\n<svg height=\"248.518125pt\" version=\"1.1\" viewBox=\"0 0 372.821633 248.518125\" width=\"372.821633pt\" xmlns=\"http://www.w3.org/2000/svg\" xmlns:xlink=\"http://www.w3.org/1999/xlink\">\n <defs>\n  <style type=\"text/css\">\n*{stroke-linecap:butt;stroke-linejoin:round;}\n  </style>\n </defs>\n <g id=\"figure_1\">\n  <g id=\"patch_1\">\n   <path d=\"M 0 248.518125 \nL 372.821633 248.518125 \nL 372.821633 0 \nL 0 0 \nz\n\" style=\"fill:none;\"/>\n  </g>\n  <g id=\"axes_1\">\n   <g id=\"patch_2\">\n    <path d=\"M 30.103125 224.64 \nL 364.903125 224.64 \nL 364.903125 7.2 \nL 30.103125 7.2 \nz\n\" style=\"fill:#ffffff;\"/>\n   </g>\n   <g id=\"matplotlib.axis_1\">\n    <g id=\"xtick_1\">\n     <g id=\"line2d_1\">\n      <defs>\n       <path d=\"M 0 0 \nL 0 3.5 \n\" id=\"mac6c4bd9df\" style=\"stroke:#000000;stroke-width:0.8;\"/>\n      </defs>\n      <g>\n       <use style=\"stroke:#000000;stroke-width:0.8;\" x=\"45.321307\" xlink:href=\"#mac6c4bd9df\" y=\"224.64\"/>\n      </g>\n     </g>\n     <g id=\"text_1\">\n      <!-- 0 -->\n      <defs>\n       <path d=\"M 31.78125 66.40625 \nQ 24.171875 66.40625 20.328125 58.90625 \nQ 16.5 51.421875 16.5 36.375 \nQ 16.5 21.390625 20.328125 13.890625 \nQ 24.171875 6.390625 31.78125 6.390625 \nQ 39.453125 6.390625 43.28125 13.890625 \nQ 47.125 21.390625 47.125 36.375 \nQ 47.125 51.421875 43.28125 58.90625 \nQ 39.453125 66.40625 31.78125 66.40625 \nz\nM 31.78125 74.21875 \nQ 44.046875 74.21875 50.515625 64.515625 \nQ 56.984375 54.828125 56.984375 36.375 \nQ 56.984375 17.96875 50.515625 8.265625 \nQ 44.046875 -1.421875 31.78125 -1.421875 \nQ 19.53125 -1.421875 13.0625 8.265625 \nQ 6.59375 17.96875 6.59375 36.375 \nQ 6.59375 54.828125 13.0625 64.515625 \nQ 19.53125 74.21875 31.78125 74.21875 \nz\n\" id=\"DejaVuSans-48\"/>\n      </defs>\n      <g transform=\"translate(42.140057 239.238438)scale(0.1 -0.1)\">\n       <use xlink:href=\"#DejaVuSans-48\"/>\n      </g>\n     </g>\n    </g>\n    <g id=\"xtick_2\">\n     <g id=\"line2d_2\">\n      <g>\n       <use style=\"stroke:#000000;stroke-width:0.8;\" x=\"106.200122\" xlink:href=\"#mac6c4bd9df\" y=\"224.64\"/>\n      </g>\n     </g>\n     <g id=\"text_2\">\n      <!-- 2000 -->\n      <defs>\n       <path d=\"M 19.1875 8.296875 \nL 53.609375 8.296875 \nL 53.609375 0 \nL 7.328125 0 \nL 7.328125 8.296875 \nQ 12.9375 14.109375 22.625 23.890625 \nQ 32.328125 33.6875 34.8125 36.53125 \nQ 39.546875 41.84375 41.421875 45.53125 \nQ 43.3125 49.21875 43.3125 52.78125 \nQ 43.3125 58.59375 39.234375 62.25 \nQ 35.15625 65.921875 28.609375 65.921875 \nQ 23.96875 65.921875 18.8125 64.3125 \nQ 13.671875 62.703125 7.8125 59.421875 \nL 7.8125 69.390625 \nQ 13.765625 71.78125 18.9375 73 \nQ 24.125 74.21875 28.421875 74.21875 \nQ 39.75 74.21875 46.484375 68.546875 \nQ 53.21875 62.890625 53.21875 53.421875 \nQ 53.21875 48.921875 51.53125 44.890625 \nQ 49.859375 40.875 45.40625 35.40625 \nQ 44.1875 33.984375 37.640625 27.21875 \nQ 31.109375 20.453125 19.1875 8.296875 \nz\n\" id=\"DejaVuSans-50\"/>\n      </defs>\n      <g transform=\"translate(93.475122 239.238438)scale(0.1 -0.1)\">\n       <use xlink:href=\"#DejaVuSans-50\"/>\n       <use x=\"63.623047\" xlink:href=\"#DejaVuSans-48\"/>\n       <use x=\"127.246094\" xlink:href=\"#DejaVuSans-48\"/>\n       <use x=\"190.869141\" xlink:href=\"#DejaVuSans-48\"/>\n      </g>\n     </g>\n    </g>\n    <g id=\"xtick_3\">\n     <g id=\"line2d_3\">\n      <g>\n       <use style=\"stroke:#000000;stroke-width:0.8;\" x=\"167.078937\" xlink:href=\"#mac6c4bd9df\" y=\"224.64\"/>\n      </g>\n     </g>\n     <g id=\"text_3\">\n      <!-- 4000 -->\n      <defs>\n       <path d=\"M 37.796875 64.3125 \nL 12.890625 25.390625 \nL 37.796875 25.390625 \nz\nM 35.203125 72.90625 \nL 47.609375 72.90625 \nL 47.609375 25.390625 \nL 58.015625 25.390625 \nL 58.015625 17.1875 \nL 47.609375 17.1875 \nL 47.609375 0 \nL 37.796875 0 \nL 37.796875 17.1875 \nL 4.890625 17.1875 \nL 4.890625 26.703125 \nz\n\" id=\"DejaVuSans-52\"/>\n      </defs>\n      <g transform=\"translate(154.353937 239.238438)scale(0.1 -0.1)\">\n       <use xlink:href=\"#DejaVuSans-52\"/>\n       <use x=\"63.623047\" xlink:href=\"#DejaVuSans-48\"/>\n       <use x=\"127.246094\" xlink:href=\"#DejaVuSans-48\"/>\n       <use x=\"190.869141\" xlink:href=\"#DejaVuSans-48\"/>\n      </g>\n     </g>\n    </g>\n    <g id=\"xtick_4\">\n     <g id=\"line2d_4\">\n      <g>\n       <use style=\"stroke:#000000;stroke-width:0.8;\" x=\"227.957752\" xlink:href=\"#mac6c4bd9df\" y=\"224.64\"/>\n      </g>\n     </g>\n     <g id=\"text_4\">\n      <!-- 6000 -->\n      <defs>\n       <path d=\"M 33.015625 40.375 \nQ 26.375 40.375 22.484375 35.828125 \nQ 18.609375 31.296875 18.609375 23.390625 \nQ 18.609375 15.53125 22.484375 10.953125 \nQ 26.375 6.390625 33.015625 6.390625 \nQ 39.65625 6.390625 43.53125 10.953125 \nQ 47.40625 15.53125 47.40625 23.390625 \nQ 47.40625 31.296875 43.53125 35.828125 \nQ 39.65625 40.375 33.015625 40.375 \nz\nM 52.59375 71.296875 \nL 52.59375 62.3125 \nQ 48.875 64.0625 45.09375 64.984375 \nQ 41.3125 65.921875 37.59375 65.921875 \nQ 27.828125 65.921875 22.671875 59.328125 \nQ 17.53125 52.734375 16.796875 39.40625 \nQ 19.671875 43.65625 24.015625 45.921875 \nQ 28.375 48.1875 33.59375 48.1875 \nQ 44.578125 48.1875 50.953125 41.515625 \nQ 57.328125 34.859375 57.328125 23.390625 \nQ 57.328125 12.15625 50.6875 5.359375 \nQ 44.046875 -1.421875 33.015625 -1.421875 \nQ 20.359375 -1.421875 13.671875 8.265625 \nQ 6.984375 17.96875 6.984375 36.375 \nQ 6.984375 53.65625 15.1875 63.9375 \nQ 23.390625 74.21875 37.203125 74.21875 \nQ 40.921875 74.21875 44.703125 73.484375 \nQ 48.484375 72.75 52.59375 71.296875 \nz\n\" id=\"DejaVuSans-54\"/>\n      </defs>\n      <g transform=\"translate(215.232752 239.238438)scale(0.1 -0.1)\">\n       <use xlink:href=\"#DejaVuSans-54\"/>\n       <use x=\"63.623047\" xlink:href=\"#DejaVuSans-48\"/>\n       <use x=\"127.246094\" xlink:href=\"#DejaVuSans-48\"/>\n       <use x=\"190.869141\" xlink:href=\"#DejaVuSans-48\"/>\n      </g>\n     </g>\n    </g>\n    <g id=\"xtick_5\">\n     <g id=\"line2d_5\">\n      <g>\n       <use style=\"stroke:#000000;stroke-width:0.8;\" x=\"288.836567\" xlink:href=\"#mac6c4bd9df\" y=\"224.64\"/>\n      </g>\n     </g>\n     <g id=\"text_5\">\n      <!-- 8000 -->\n      <defs>\n       <path d=\"M 31.78125 34.625 \nQ 24.75 34.625 20.71875 30.859375 \nQ 16.703125 27.09375 16.703125 20.515625 \nQ 16.703125 13.921875 20.71875 10.15625 \nQ 24.75 6.390625 31.78125 6.390625 \nQ 38.8125 6.390625 42.859375 10.171875 \nQ 46.921875 13.96875 46.921875 20.515625 \nQ 46.921875 27.09375 42.890625 30.859375 \nQ 38.875 34.625 31.78125 34.625 \nz\nM 21.921875 38.8125 \nQ 15.578125 40.375 12.03125 44.71875 \nQ 8.5 49.078125 8.5 55.328125 \nQ 8.5 64.0625 14.71875 69.140625 \nQ 20.953125 74.21875 31.78125 74.21875 \nQ 42.671875 74.21875 48.875 69.140625 \nQ 55.078125 64.0625 55.078125 55.328125 \nQ 55.078125 49.078125 51.53125 44.71875 \nQ 48 40.375 41.703125 38.8125 \nQ 48.828125 37.15625 52.796875 32.3125 \nQ 56.78125 27.484375 56.78125 20.515625 \nQ 56.78125 9.90625 50.3125 4.234375 \nQ 43.84375 -1.421875 31.78125 -1.421875 \nQ 19.734375 -1.421875 13.25 4.234375 \nQ 6.78125 9.90625 6.78125 20.515625 \nQ 6.78125 27.484375 10.78125 32.3125 \nQ 14.796875 37.15625 21.921875 38.8125 \nz\nM 18.3125 54.390625 \nQ 18.3125 48.734375 21.84375 45.5625 \nQ 25.390625 42.390625 31.78125 42.390625 \nQ 38.140625 42.390625 41.71875 45.5625 \nQ 45.3125 48.734375 45.3125 54.390625 \nQ 45.3125 60.0625 41.71875 63.234375 \nQ 38.140625 66.40625 31.78125 66.40625 \nQ 25.390625 66.40625 21.84375 63.234375 \nQ 18.3125 60.0625 18.3125 54.390625 \nz\n\" id=\"DejaVuSans-56\"/>\n      </defs>\n      <g transform=\"translate(276.111567 239.238438)scale(0.1 -0.1)\">\n       <use xlink:href=\"#DejaVuSans-56\"/>\n       <use x=\"63.623047\" xlink:href=\"#DejaVuSans-48\"/>\n       <use x=\"127.246094\" xlink:href=\"#DejaVuSans-48\"/>\n       <use x=\"190.869141\" xlink:href=\"#DejaVuSans-48\"/>\n      </g>\n     </g>\n    </g>\n    <g id=\"xtick_6\">\n     <g id=\"line2d_6\">\n      <g>\n       <use style=\"stroke:#000000;stroke-width:0.8;\" x=\"349.715383\" xlink:href=\"#mac6c4bd9df\" y=\"224.64\"/>\n      </g>\n     </g>\n     <g id=\"text_6\">\n      <!-- 10000 -->\n      <defs>\n       <path d=\"M 12.40625 8.296875 \nL 28.515625 8.296875 \nL 28.515625 63.921875 \nL 10.984375 60.40625 \nL 10.984375 69.390625 \nL 28.421875 72.90625 \nL 38.28125 72.90625 \nL 38.28125 8.296875 \nL 54.390625 8.296875 \nL 54.390625 0 \nL 12.40625 0 \nz\n\" id=\"DejaVuSans-49\"/>\n      </defs>\n      <g transform=\"translate(333.809133 239.238438)scale(0.1 -0.1)\">\n       <use xlink:href=\"#DejaVuSans-49\"/>\n       <use x=\"63.623047\" xlink:href=\"#DejaVuSans-48\"/>\n       <use x=\"127.246094\" xlink:href=\"#DejaVuSans-48\"/>\n       <use x=\"190.869141\" xlink:href=\"#DejaVuSans-48\"/>\n       <use x=\"254.492188\" xlink:href=\"#DejaVuSans-48\"/>\n      </g>\n     </g>\n    </g>\n   </g>\n   <g id=\"matplotlib.axis_2\">\n    <g id=\"ytick_1\">\n     <g id=\"line2d_7\">\n      <defs>\n       <path d=\"M 0 0 \nL -3.5 0 \n\" id=\"mdff567f93f\" style=\"stroke:#000000;stroke-width:0.8;\"/>\n      </defs>\n      <g>\n       <use style=\"stroke:#000000;stroke-width:0.8;\" x=\"30.103125\" xlink:href=\"#mdff567f93f\" y=\"217.061129\"/>\n      </g>\n     </g>\n     <g id=\"text_7\">\n      <!-- 0.0 -->\n      <defs>\n       <path d=\"M 10.6875 12.40625 \nL 21 12.40625 \nL 21 0 \nL 10.6875 0 \nz\n\" id=\"DejaVuSans-46\"/>\n      </defs>\n      <g transform=\"translate(7.2 220.860348)scale(0.1 -0.1)\">\n       <use xlink:href=\"#DejaVuSans-48\"/>\n       <use x=\"63.623047\" xlink:href=\"#DejaVuSans-46\"/>\n       <use x=\"95.410156\" xlink:href=\"#DejaVuSans-48\"/>\n      </g>\n     </g>\n    </g>\n    <g id=\"ytick_2\">\n     <g id=\"line2d_8\">\n      <g>\n       <use style=\"stroke:#000000;stroke-width:0.8;\" x=\"30.103125\" xlink:href=\"#mdff567f93f\" y=\"178.893438\"/>\n      </g>\n     </g>\n     <g id=\"text_8\">\n      <!-- 0.2 -->\n      <g transform=\"translate(7.2 182.692657)scale(0.1 -0.1)\">\n       <use xlink:href=\"#DejaVuSans-48\"/>\n       <use x=\"63.623047\" xlink:href=\"#DejaVuSans-46\"/>\n       <use x=\"95.410156\" xlink:href=\"#DejaVuSans-50\"/>\n      </g>\n     </g>\n    </g>\n    <g id=\"ytick_3\">\n     <g id=\"line2d_9\">\n      <g>\n       <use style=\"stroke:#000000;stroke-width:0.8;\" x=\"30.103125\" xlink:href=\"#mdff567f93f\" y=\"140.725748\"/>\n      </g>\n     </g>\n     <g id=\"text_9\">\n      <!-- 0.4 -->\n      <g transform=\"translate(7.2 144.524966)scale(0.1 -0.1)\">\n       <use xlink:href=\"#DejaVuSans-48\"/>\n       <use x=\"63.623047\" xlink:href=\"#DejaVuSans-46\"/>\n       <use x=\"95.410156\" xlink:href=\"#DejaVuSans-52\"/>\n      </g>\n     </g>\n    </g>\n    <g id=\"ytick_4\">\n     <g id=\"line2d_10\">\n      <g>\n       <use style=\"stroke:#000000;stroke-width:0.8;\" x=\"30.103125\" xlink:href=\"#mdff567f93f\" y=\"102.558057\"/>\n      </g>\n     </g>\n     <g id=\"text_10\">\n      <!-- 0.6 -->\n      <g transform=\"translate(7.2 106.357276)scale(0.1 -0.1)\">\n       <use xlink:href=\"#DejaVuSans-48\"/>\n       <use x=\"63.623047\" xlink:href=\"#DejaVuSans-46\"/>\n       <use x=\"95.410156\" xlink:href=\"#DejaVuSans-54\"/>\n      </g>\n     </g>\n    </g>\n    <g id=\"ytick_5\">\n     <g id=\"line2d_11\">\n      <g>\n       <use style=\"stroke:#000000;stroke-width:0.8;\" x=\"30.103125\" xlink:href=\"#mdff567f93f\" y=\"64.390366\"/>\n      </g>\n     </g>\n     <g id=\"text_11\">\n      <!-- 0.8 -->\n      <g transform=\"translate(7.2 68.189585)scale(0.1 -0.1)\">\n       <use xlink:href=\"#DejaVuSans-48\"/>\n       <use x=\"63.623047\" xlink:href=\"#DejaVuSans-46\"/>\n       <use x=\"95.410156\" xlink:href=\"#DejaVuSans-56\"/>\n      </g>\n     </g>\n    </g>\n    <g id=\"ytick_6\">\n     <g id=\"line2d_12\">\n      <g>\n       <use style=\"stroke:#000000;stroke-width:0.8;\" x=\"30.103125\" xlink:href=\"#mdff567f93f\" y=\"26.222675\"/>\n      </g>\n     </g>\n     <g id=\"text_12\">\n      <!-- 1.0 -->\n      <g transform=\"translate(7.2 30.021894)scale(0.1 -0.1)\">\n       <use xlink:href=\"#DejaVuSans-49\"/>\n       <use x=\"63.623047\" xlink:href=\"#DejaVuSans-46\"/>\n       <use x=\"95.410156\" xlink:href=\"#DejaVuSans-48\"/>\n      </g>\n     </g>\n    </g>\n   </g>\n   <g id=\"line2d_13\">\n    <path clip-path=\"url(#p8656c1597b)\" d=\"M 45.321307 17.083636 \nL 45.595261 19.373555 \nL 46.356247 25.213361 \nL 46.599762 27.522708 \nL 47.512944 35.305488 \nL 47.604262 36.035015 \nL 48.304369 41.362395 \nL 48.76096 44.739852 \nL 48.821839 45.053787 \nL 49.369748 49.565136 \nL 49.400187 49.59537 \nL 49.674142 52.09024 \nL 49.704582 52.089456 \nL 50.039415 54.405377 \nL 51.165673 61.952493 \nL 51.500507 63.706632 \nL 51.957098 67.09518 \nL 53.205113 75.978626 \nL 53.326871 76.798423 \nL 53.539947 78.06432 \nL 53.570386 78.097898 \nL 53.87478 80.178451 \nL 54.666205 84.948156 \nL 55.670705 90.688308 \nL 55.701145 90.651738 \nL 56.157736 93.04378 \nL 56.583888 94.592216 \nL 56.644766 94.577565 \nL 56.949161 96.432282 \nL 57.557949 99.714247 \nL 57.618827 99.78013 \nL 57.923222 101.315736 \nL 58.197176 102.501792 \nL 58.653767 105.299416 \nL 58.745086 105.593433 \nL 59.627828 110.728977 \nL 59.658268 110.71833 \nL 59.962662 112.282214 \nL 60.297495 113.775323 \nL 60.57145 115.206474 \nL 60.936723 117.140723 \nL 61.697708 121.103416 \nL 61.910784 121.707194 \nL 62.154299 122.755114 \nL 62.184739 122.731056 \nL 62.489133 124.078681 \nL 63.828467 129.836777 \nL 64.254618 131.771526 \nL 64.315497 131.82554 \nL 66.172301 139.098414 \nL 66.385377 139.913331 \nL 66.415816 139.921862 \nL 66.72021 141.150762 \nL 66.781089 141.216202 \nL 67.085483 142.256319 \nL 67.146362 142.457159 \nL 67.420317 143.525332 \nL 67.724711 144.980632 \nL 68.516135 147.973084 \nL 69.490196 152.096925 \nL 69.520636 152.096703 \nL 69.794591 152.899376 \nL 69.82503 152.897021 \nL 70.129424 153.98026 \nL 70.159863 153.921566 \nL 70.220742 154.028211 \nL 70.920849 155.889382 \nL 71.286121 157.155017 \nL 71.316561 157.142056 \nL 71.347 157.134412 \nL 71.590516 157.818513 \nL 71.773152 158.14529 \nL 71.803591 158.133221 \nL 72.168864 159.169311 \nL 72.534137 160.019701 \nL 72.777652 160.913572 \nL 72.808092 160.840881 \nL 72.838531 160.968183 \nL 73.264683 162.43517 \nL 73.690835 163.647149 \nL 74.573577 165.883594 \nL 74.634456 166.012449 \nL 75.030169 167.169829 \nL 75.212805 167.493091 \nL 75.730275 169.311089 \nL 75.791154 169.434598 \nL 76.034669 170.231116 \nL 76.065108 170.221931 \nL 77.160927 173.423755 \nL 77.191367 173.33424 \nL 77.252245 173.487408 \nL 77.404442 173.908358 \nL 77.587079 174.195692 \nL 77.891473 174.912809 \nL 78.04367 175.151274 \nL 78.104549 175.289931 \nL 78.317625 175.701121 \nL 78.348064 175.64961 \nL 78.378503 175.679213 \nL 78.804655 176.936243 \nL 78.835095 176.892637 \nL 78.865534 176.998486 \nL 80.509262 180.423902 \nL 80.63102 180.615241 \nL 81.726838 182.862021 \nL 81.757278 182.631461 \nL 81.848596 182.735623 \nL 81.939914 182.686922 \nL 82.396505 183.688307 \nL 82.518263 183.91736 \nL 82.822657 184.613584 \nL 83.127051 185.186231 \nL 83.15749 185.105225 \nL 83.18793 185.170099 \nL 83.461885 185.853125 \nL 83.492324 185.778432 \nL 83.522763 185.869161 \nL 83.583642 185.835005 \nL 83.735839 186.156054 \nL 83.979354 186.412131 \nL 84.040233 186.438017 \nL 85.105613 188.715449 \nL 85.440446 189.298433 \nL 85.470885 189.05753 \nL 85.562204 189.211148 \nL 85.623082 189.270917 \nL 88.606144 194.375152 \nL 88.667023 194.461163 \nL 89.032296 195.116002 \nL 89.306251 195.57053 \nL 89.33669 195.5568 \nL 90.036797 196.743019 \nL 90.067236 196.578699 \nL 90.128115 196.705456 \nL 90.645585 197.533458 \nL 90.767342 197.448652 \nL 90.797782 197.428105 \nL 90.828221 197.491253 \nL 91.528328 198.273714 \nL 91.619646 197.963845 \nL 91.680525 198.011525 \nL 92.167555 198.450155 \nL 92.289313 198.462606 \nL 92.563267 198.870941 \nL 93.780844 200.36442 \nL 93.933041 200.410688 \nL 94.206995 200.637422 \nL 94.754905 200.997853 \nL 95.028859 201.185558 \nL 95.120178 201.255188 \nL 95.394132 201.779021 \nL 95.424572 201.761754 \nL 95.546329 201.912781 \nL 95.698526 202.088193 \nL 95.728966 201.940937 \nL 95.820284 201.994927 \nL 96.307315 202.528467 \nL 96.368193 202.408941 \nL 96.429072 202.477981 \nL 96.703027 202.86139 \nL 96.794345 202.947907 \nL 97.03786 203.275058 \nL 97.403133 203.504459 \nL 97.494451 203.562278 \nL 97.707527 203.762522 \nL 97.859724 203.640518 \nL 97.920603 203.734769 \nL 97.981482 203.699967 \nL 98.10324 203.778972 \nL 98.194558 203.815862 \nL 98.224997 203.697003 \nL 98.285876 203.771086 \nL 98.438073 203.976182 \nL 98.498952 203.930834 \nL 98.681588 204.079478 \nL 98.894664 204.237795 \nL 99.10774 204.356308 \nL 99.229498 204.438073 \nL 99.503452 204.745991 \nL 99.716528 204.804998 \nL 99.899165 204.877189 \nL 100.507953 205.339477 \nL 100.538392 205.281908 \nL 100.66015 205.329194 \nL 100.873226 205.493402 \nL 100.994983 205.42558 \nL 101.208059 205.604274 \nL 101.329817 205.581486 \nL 101.360256 205.526281 \nL 101.421135 205.622234 \nL 102.090802 206.224549 \nL 102.242999 206.066094 \nL 102.273438 206.081048 \nL 102.608272 206.413509 \nL 102.851787 206.329674 \nL 103.064863 206.508184 \nL 103.156181 206.567321 \nL 103.308378 206.703497 \nL 103.338818 206.61712 \nL 103.399696 206.671184 \nL 103.582333 206.876902 \nL 103.886727 207.092365 \nL 104.038924 207.248875 \nL 104.069363 207.220219 \nL 104.160682 207.293275 \nL 104.312879 207.364775 \nL 104.373758 207.381814 \nL 104.404197 207.192776 \nL 104.465076 207.275366 \nL 104.76947 207.641494 \nL 104.799909 207.519901 \nL 104.860788 207.568095 \nL 104.952106 207.681479 \nL 105.012985 207.641507 \nL 106.778471 208.848427 \nL 106.80891 208.804058 \nL 106.869789 208.872107 \nL 107.295941 209.252993 \nL 107.417698 209.270069 \nL 107.874289 209.406962 \nL 108.148244 209.395481 \nL 108.330881 209.407426 \nL 108.483078 209.512573 \nL 108.696153 209.66952 \nL 108.817911 209.6944 \nL 109.000547 209.749099 \nL 109.244063 209.829389 \nL 109.457139 209.867545 \nL 109.578896 209.915123 \nL 110.065927 210.094768 \nL 110.339881 210.214782 \nL 110.461639 210.177898 \nL 110.674715 210.22683 \nL 110.796473 210.142025 \nL 110.826912 210.157479 \nL 110.979109 210.209893 \nL 111.283503 210.222516 \nL 111.648776 210.321489 \nL 112.044488 210.242982 \nL 112.714155 210.52345 \nL 112.835913 210.394683 \nL 113.109867 210.379437 \nL 113.292504 210.406012 \nL 113.50558 210.447044 \nL 113.688216 210.503182 \nL 113.749095 210.362645 \nL 113.809974 210.418764 \nL 114.02305 210.528699 \nL 114.053489 210.437779 \nL 114.144807 210.481826 \nL 114.51008 210.511908 \nL 114.601398 210.30101 \nL 114.662277 210.345735 \nL 115.02755 210.479855 \nL 115.210187 210.377144 \nL 115.453702 210.42775 \nL 115.879854 210.720969 \nL 116.06249 210.741494 \nL 116.57996 210.89285 \nL 116.640839 210.790397 \nL 116.701718 210.834851 \nL 117.036551 210.968685 \nL 117.493142 211.003827 \nL 117.736657 210.91366 \nL 118.64984 211.136937 \nL 118.680279 211.0176 \nL 118.771597 211.048112 \nL 118.893355 211.067169 \nL 119.015113 211.04228 \nL 119.258628 211.124211 \nL 119.410825 210.836603 \nL 119.745658 211.017383 \nL 120.141371 211.22651 \nL 120.293568 211.227872 \nL 120.476204 211.193795 \nL 121.267629 211.214323 \nL 121.389386 211.16227 \nL 121.419826 211.206488 \nL 121.632902 211.226381 \nL 121.906856 211.366881 \nL 122.028614 211.392792 \nL 122.180811 211.336834 \nL 122.393887 211.319834 \nL 123.641903 211.689704 \nL 123.915857 211.815935 \nL 125.102994 212.13 \nL 125.255191 212.103669 \nL 125.31607 212.105094 \nL 125.346509 212.053925 \nL 125.742222 212.038315 \nL 126.077055 212.064012 \nL 126.716283 212.079388 \nL 126.83804 212.100773 \nL 127.142434 212.144031 \nL 127.325071 212.1136 \nL 128.451329 212.213656 \nL 128.573087 212.213359 \nL 128.877481 212.283753 \nL 129.242754 212.330278 \nL 129.729784 212.427534 \nL 130.034178 212.456548 \nL 130.186375 212.420904 \nL 130.795163 212.511267 \nL 131.830103 212.709751 \nL 133.839104 212.843231 \nL 134.05218 212.800409 \nL 134.56965 212.828925 \nL 134.691407 212.792343 \nL 137.309197 212.667047 \nL 137.948424 212.717645 \nL 138.131061 212.677699 \nL 138.313697 212.652551 \nL 138.496333 212.529857 \nL 139.622591 212.461814 \nL 139.805228 212.541194 \nL 139.926986 212.445163 \nL 141.479395 212.700812 \nL 141.540274 212.616871 \nL 141.601153 212.647292 \nL 141.814229 212.694112 \nL 141.875108 212.592482 \nL 141.935986 212.623765 \nL 142.423017 212.646818 \nL 142.514335 212.475163 \nL 142.544775 212.493973 \nL 142.910048 212.595068 \nL 143.062245 212.559054 \nL 143.762351 212.670716 \nL 144.432018 212.67893 \nL 145.253882 212.781648 \nL 145.558276 212.777305 \nL 145.923549 212.80769 \nL 146.319261 212.773449 \nL 147.475959 212.930032 \nL 147.689035 212.868711 \nL 147.780353 212.801048 \nL 148.054307 212.82268 \nL 148.480459 212.883207 \nL 149.728475 212.942359 \nL 150.276384 212.990008 \nL 150.48946 212.977165 \nL 151.250445 212.950585 \nL 151.433082 212.953239 \nL 152.468021 213.08605 \nL 152.894173 213.048258 \nL 154.111749 213.059175 \nL 154.659659 213.102401 \nL 155.359765 212.886566 \nL 155.816356 212.937763 \nL 157.247008 212.877518 \nL 158.738539 212.998321 \nL 159.74304 213.004381 \nL 159.956116 212.943126 \nL 160.23007 212.985834 \nL 160.382267 212.972597 \nL 161.051934 213.12724 \nL 162.025995 213.116961 \nL 162.208632 213.15612 \nL 162.33039 213.135284 \nL 162.482587 213.083211 \nL 162.878299 213.102041 \nL 163.182693 213.088731 \nL 163.304451 213.053189 \nL 163.761042 213.135468 \nL 163.913239 213.10769 \nL 164.33939 213.13371 \nL 164.491587 213.121747 \nL 164.85686 213.099609 \nL 164.978618 213.047682 \nL 165.37433 213.120859 \nL 165.526527 213.032429 \nL 166.135315 213.153719 \nL 166.652785 213.231873 \nL 166.835422 213.165738 \nL 167.322452 213.172534 \nL 168.052998 213.061535 \nL 168.357392 213.06257 \nL 168.387832 212.9372 \nL 168.47915 212.964423 \nL 168.783544 212.943247 \nL 168.905302 212.919664 \nL 169.148817 212.931528 \nL 169.453211 212.897804 \nL 169.818484 212.979151 \nL 170.396833 213.107733 \nL 171.431772 213.044868 \nL 171.55353 213.054549 \nL 171.705727 213.004802 \nL 173.197258 213.139703 \nL 173.349455 213.115798 \nL 173.684289 213.139634 \nL 174.323516 213.18415 \nL 174.536592 213.154054 \nL 175.084501 213.224336 \nL 175.297577 213.190516 \nL 175.906365 213.152447 \nL 176.028123 213.13881 \nL 176.69779 213.22188 \nL 177.063063 213.246631 \nL 179.528655 213.209401 \nL 179.893928 213.236567 \nL 180.137443 213.207186 \nL 180.563595 213.239638 \nL 180.928868 213.267792 \nL 181.446338 213.271221 \nL 182.055126 213.378599 \nL 182.207323 213.207607 \nL 182.724793 213.264146 \nL 183.120505 213.31413 \nL 183.272702 213.232641 \nL 184.216324 213.365273 \nL 184.39896 213.343346 \nL 184.581596 213.29885 \nL 184.825112 213.300014 \nL 185.342582 213.386553 \nL 185.494779 213.356709 \nL 185.768733 213.317897 \nL 186.134006 213.436025 \nL 186.803673 213.527178 \nL 186.95587 213.479247 \nL 187.747295 213.473065 \nL 188.477841 213.521704 \nL 190.730357 213.6 \nL 190.912993 213.607964 \nL 199.31427 213.68941 \nL 199.557785 213.680777 \nL 199.892618 213.711318 \nL 201.079755 213.672854 \nL 203.240953 213.622769 \nL 203.575787 213.698718 \nL 204.42809 213.703798 \nL 204.732484 213.711971 \nL 209.267956 213.748523 \nL 210.120259 213.719585 \nL 211.246518 213.721387 \nL 211.946624 213.695723 \nL 212.12926 213.734982 \nL 212.64673 213.758458 \nL 212.829367 213.809253 \nL 213.438155 213.834245 \nL 217.608354 213.711212 \nL 217.760551 213.771658 \nL 218.004066 213.861704 \nL 220.926249 213.848752 \nL 221.078446 213.875249 \nL 221.595916 213.895397 \nL 225.096448 213.91233 \nL 225.461721 213.910327 \nL 226.709737 213.935553 \nL 227.592479 213.982031 \nL 228.414343 213.964943 \nL 229.63192 213.996501 \nL 230.971254 214.005653 \nL 231.640921 213.979147 \nL 232.006193 213.970726 \nL 232.67586 213.978558 \nL 233.954316 214.013837 \nL 234.167391 214.016034 \nL 238.246272 214.062599 \nL 238.398469 214.002281 \nL 239.342091 213.981101 \nL 241.655486 213.989494 \nL 242.47735 214.029286 \nL 242.751304 214.032521 \nL 243.451411 214.046187 \nL 247.926004 214.109691 \nL 248.10864 214.129525 \nL 249.508853 214.058688 \nL 249.995883 214.05067 \nL 250.69599 214.056002 \nL 253.800809 214.153705 \nL 254.074764 214.151871 \nL 254.622673 214.095798 \nL 254.927067 214.082584 \nL 255.779371 214.117131 \nL 277.482668 214.292206 \nL 277.969699 214.263264 \nL 278.121896 214.322801 \nL 284.788126 214.215699 \nL 284.940323 214.31634 \nL 285.427354 214.314955 \nL 285.914384 214.335311 \nL 286.64493 214.315083 \nL 286.949324 214.279106 \nL 288.471295 214.156773 \nL 288.653931 214.171609 \nL 289.323598 214.090908 \nL 289.506234 214.131868 \nL 290.084583 214.135347 \nL 290.571614 213.995241 \nL 290.693371 213.989086 \nL 291.363038 214.169068 \nL 291.454356 214.221402 \nL 291.484796 214.208033 \nL 291.880508 214.198828 \nL 292.184902 214.154312 \nL 292.428418 214.218132 \nL 292.580615 214.272649 \nL 293.372039 214.266786 \nL 293.554676 214.271151 \nL 293.798191 214.299851 \nL 294.3461 214.25743 \nL 294.680934 214.363519 \nL 295.411479 214.295696 \nL 295.563677 214.360623 \nL 296.050707 214.323229 \nL 296.385541 214.309464 \nL 296.811692 214.270571 \nL 297.085647 214.319932 \nL 297.511799 214.235332 \nL 297.663996 214.266445 \nL 297.877071 214.290153 \nL 298.48586 214.282417 \nL 298.759814 214.34279 \nL 299.00333 214.391353 \nL 302.290786 214.389591 \nL 302.442983 214.4232 \nL 302.747377 214.449988 \nL 302.990892 214.467929 \nL 306.521863 214.375151 \nL 306.7045 214.411545 \nL 306.948015 214.476367 \nL 307.374167 214.475851 \nL 308.013394 214.459281 \nL 308.591743 214.474403 \nL 309.565804 214.445442 \nL 317.754005 214.590019 \nL 318.027959 214.610337 \nL 319.397733 214.632784 \nL 319.823884 214.634483 \nL 320.523991 214.629513 \nL 321.345855 214.628971 \nL 323.354856 214.569388 \nL 323.537492 214.622835 \nL 324.328917 214.629909 \nL 325.150781 214.652174 \nL 328.103403 214.664494 \nL 328.316479 214.626836 \nL 335.743695 214.455397 \nL 335.95677 214.476395 \nL 336.139407 214.54755 \nL 337.478741 214.448237 \nL 337.630938 214.511569 \nL 338.209287 214.698525 \nL 339.183348 214.675294 \nL 339.670378 214.724506 \nL 341.466303 214.618658 \nL 341.679379 214.612092 \nL 341.831576 214.676205 \nL 342.227288 214.711513 \nL 342.805637 214.67878 \nL 343.231789 214.697932 \nL 343.901456 214.688819 \nL 344.023213 214.730469 \nL 344.814638 214.733693 \nL 345.880017 214.656588 \nL 346.701881 214.571603 \nL 346.945396 214.687264 \nL 347.401988 214.698486 \nL 347.736821 214.728664 \nL 348.619564 214.67965 \nL 349.410989 214.64655 \nL 349.684943 214.615164 \nL 349.684943 214.615164 \n\" style=\"fill:none;stroke:#1f77b4;stroke-linecap:square;stroke-width:1.5;\"/>\n   </g>\n   <g id=\"patch_3\">\n    <path d=\"M 30.103125 224.64 \nL 30.103125 7.2 \n\" style=\"fill:none;stroke:#000000;stroke-linecap:square;stroke-linejoin:miter;stroke-width:0.8;\"/>\n   </g>\n   <g id=\"patch_4\">\n    <path d=\"M 364.903125 224.64 \nL 364.903125 7.2 \n\" style=\"fill:none;stroke:#000000;stroke-linecap:square;stroke-linejoin:miter;stroke-width:0.8;\"/>\n   </g>\n   <g id=\"patch_5\">\n    <path d=\"M 30.103125 224.64 \nL 364.903125 224.64 \n\" style=\"fill:none;stroke:#000000;stroke-linecap:square;stroke-linejoin:miter;stroke-width:0.8;\"/>\n   </g>\n   <g id=\"patch_6\">\n    <path d=\"M 30.103125 7.2 \nL 364.903125 7.2 \n\" style=\"fill:none;stroke:#000000;stroke-linecap:square;stroke-linejoin:miter;stroke-width:0.8;\"/>\n   </g>\n  </g>\n </g>\n <defs>\n  <clipPath id=\"p8656c1597b\">\n   <rect height=\"217.44\" width=\"334.8\" x=\"30.103125\" y=\"7.2\"/>\n  </clipPath>\n </defs>\n</svg>\n",
      "image/png": "[encoded data removed]"
     },
     "metadata": {
      "needs_background": "light"
     }
    }
   ],
   "source": [
    "plt.plot(kls)"
   ]
  },
  {
   "cell_type": "code",
   "execution_count": null,
   "metadata": {},
   "outputs": [],
   "source": []
  }
 ]
}