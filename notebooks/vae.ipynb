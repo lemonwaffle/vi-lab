{
 "metadata": {
  "language_info": {
   "codemirror_mode": {
    "name": "ipython",
    "version": 3
   },
   "file_extension": ".py",
   "mimetype": "text/x-python",
   "name": "python",
   "nbconvert_exporter": "python",
   "pygments_lexer": "ipython3",
   "version": "3.7.8-final"
  },
  "orig_nbformat": 2,
  "kernelspec": {
   "name": "python_defaultSpec_1598845077838",
   "display_name": "Python 3.7.7 64-bit ('pytorch': conda)"
  }
 },
 "nbformat": 4,
 "nbformat_minor": 2,
 "cells": [
  {
   "cell_type": "code",
   "execution_count": 1,
   "metadata": {},
   "outputs": [],
   "source": [
    "import os\n",
    "os.chdir('..')"
   ]
  },
  {
   "cell_type": "code",
   "execution_count": 11,
   "metadata": {},
   "outputs": [],
   "source": [
    "from src.models.decoders import MNISTDecoder\n",
    "import torch\n",
    "from torch.distributions import Bernoulli\n",
    "import torch.nn.functional as F"
   ]
  },
  {
   "cell_type": "code",
   "execution_count": 4,
   "metadata": {},
   "outputs": [],
   "source": [
    "decoder = MNISTDecoder(z_dim=20)\n",
    "x = torch.randn(32, 784)\n",
    "z = torch.randn(32, 20)"
   ]
  },
  {
   "cell_type": "code",
   "execution_count": 7,
   "metadata": {},
   "outputs": [],
   "source": [
    "loc_img = decoder.decode(z)"
   ]
  },
  {
   "cell_type": "code",
   "execution_count": 10,
   "metadata": {},
   "outputs": [],
   "source": [
    "dist = Bernoulli(probs=loc_img)\n",
    "log_px_z_1 = dist.log_prob(x).sum(-1)"
   ]
  },
  {
   "cell_type": "code",
   "execution_count": 13,
   "metadata": {},
   "outputs": [],
   "source": [
    "log_px_z_2 = -F.binary_cross_entropy(loc_img, x, reduction='none').sum(-1)"
   ]
  },
  {
   "cell_type": "code",
   "execution_count": 15,
   "metadata": {},
   "outputs": [
    {
     "output_type": "execute_result",
     "data": {
      "text/plain": "tensor([-545.2446, -541.9825, -554.2417, -547.8779, -555.0793, -543.4597,\n        -540.7529, -550.2977, -552.5751, -547.5850, -546.8231, -544.1868,\n        -549.9807, -553.7803, -546.7213, -546.8846, -546.6425, -544.6062,\n        -545.1661, -549.4921, -551.7457, -544.6907, -544.5678, -556.7418,\n        -543.5345, -545.6293, -539.3209, -554.2197, -546.2762, -550.2283,\n        -550.1263, -552.4769], grad_fn=<SumBackward1>)"
     },
     "metadata": {},
     "execution_count": 15
    }
   ],
   "source": [
    "log_px_z_1"
   ]
  },
  {
   "cell_type": "code",
   "execution_count": 16,
   "metadata": {},
   "outputs": [
    {
     "output_type": "execute_result",
     "data": {
      "text/plain": "tensor([-545.2446, -541.9825, -554.2417, -547.8779, -555.0793, -543.4597,\n        -540.7529, -550.2977, -552.5751, -547.5850, -546.8231, -544.1868,\n        -549.9807, -553.7803, -546.7213, -546.8846, -546.6425, -544.6062,\n        -545.1661, -549.4921, -551.7457, -544.6907, -544.5678, -556.7418,\n        -543.5345, -545.6292, -539.3210, -554.2197, -546.2761, -550.2283,\n        -550.1263, -552.4769], grad_fn=<NegBackward>)"
     },
     "metadata": {},
     "execution_count": 16
    }
   ],
   "source": [
    "log_px_z_2"
   ]
  },
  {
   "cell_type": "code",
   "execution_count": null,
   "metadata": {},
   "outputs": [],
   "source": []
  }
 ]
}