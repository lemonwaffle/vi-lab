{
 "metadata": {
  "language_info": {
   "codemirror_mode": {
    "name": "ipython",
    "version": 3
   },
   "file_extension": ".py",
   "mimetype": "text/x-python",
   "name": "python",
   "nbconvert_exporter": "python",
   "pygments_lexer": "ipython3",
   "version": "3.7.9-final"
  },
  "orig_nbformat": 2,
  "kernelspec": {
   "name": "python3",
   "display_name": "Python 3"
  }
 },
 "nbformat": 4,
 "nbformat_minor": 2,
 "cells": [
  {
   "cell_type": "code",
   "execution_count": 13,
   "metadata": {
    "tags": []
   },
   "outputs": [
    {
     "output_type": "stream",
     "name": "stdout",
     "text": "env: WANDB_MODE=&quot;dryrun&quot;\n"
    }
   ],
   "source": [
    "%env WANDB_MODE=\"dryrun\""
   ]
  },
  {
   "cell_type": "code",
   "execution_count": 1,
   "metadata": {},
   "outputs": [],
   "source": [
    "%load_ext autoreload\n",
    "%autoreload 2"
   ]
  },
  {
   "cell_type": "code",
   "execution_count": 2,
   "metadata": {},
   "outputs": [],
   "source": [
    "import os\n",
    "os.chdir('..')"
   ]
  },
  {
   "cell_type": "code",
   "execution_count": 3,
   "metadata": {},
   "outputs": [],
   "source": [
    "from src.models.base import MLP"
   ]
  },
  {
   "cell_type": "code",
   "execution_count": 18,
   "metadata": {},
   "outputs": [],
   "source": [
    "import yaml\n",
    "from src.experiments import Fusion_MVAE_Experiment, MVAE_Tester\n",
    "from pytorch_lightning.loggers import WandbLogger\n",
    "import pytorch_lightning as pl"
   ]
  },
  {
   "cell_type": "code",
   "execution_count": 4,
   "metadata": {},
   "outputs": [],
   "source": [
    "config = \"configs/mnist_svhn/fusion.yaml\"\n",
    "\n",
    "with open(config, \"r\") as file:\n",
    "    try:\n",
    "        hparams = yaml.safe_load(file)\n",
    "    except yaml.YAMLError as exc:\n",
    "        print(exc)"
   ]
  },
  {
   "cell_type": "code",
   "execution_count": 10,
   "metadata": {
    "tags": []
   },
   "outputs": [
    {
     "output_type": "stream",
     "name": "stdout",
     "text": "Using downloaded and verified file: data/train_32x32.mat\nUsing downloaded and verified file: data/test_32x32.mat\n"
    }
   ],
   "source": [
    "exp = Fusion_MVAE_Experiment(hparams)"
   ]
  },
  {
   "cell_type": "code",
   "execution_count": 16,
   "metadata": {
    "tags": []
   },
   "outputs": [
    {
     "output_type": "display_data",
     "data": {
      "text/plain": "&lt;IPython.core.display.HTML object&gt;",
      "text/html": "\n                Logging results to <a href=\"https://wandb.com\" target=\"_blank\">Weights & Biases</a> <a href=\"https://docs.wandb.com/integrations/jupyter.html\" target=\"_blank\">(Documentation)</a>.<br/>\n                Project page: <a href=\"https://app.wandb.ai/lemonwaffle/vae-expts\" target=\"_blank\">https://app.wandb.ai/lemonwaffle/vae-expts</a><br/>\n                Run page: <a href=\"https://app.wandb.ai/lemonwaffle/vae-expts/runs/vaevae_concat_0\" target=\"_blank\">https://app.wandb.ai/lemonwaffle/vae-expts/runs/vaevae_concat_0</a><br/>\n            "
     },
     "metadata": {}
    },
    {
     "output_type": "stream",
     "name": "stderr",
     "text": "Failed to query for notebook name, you can set it manually with the WANDB_NOTEBOOK_NAME environment variable\n\u001b[34m\u001b[1mwandb\u001b[0m: Wandb version 0.10.4 is available!  To upgrade, please run:\n\u001b[34m\u001b[1mwandb\u001b[0m:  $ pip install wandb --upgrade\n"
    }
   ],
   "source": [
    "# Init logger\n",
    "project_name = \"vae-expts\"\n",
    "wandb_logger = WandbLogger(\n",
    "    name=hparams[\"name\"], project=project_name, id=hparams[\"name\"],  # For resuming\n",
    ")\n",
    "wandb_logger.log_hyperparams(hparams)"
   ]
  },
  {
   "cell_type": "code",
   "execution_count": 19,
   "metadata": {
    "tags": []
   },
   "outputs": [
    {
     "output_type": "stream",
     "name": "stderr",
     "text": "Running in fast_dev_run mode: will run a full train, val and test loop using a single batch\nGPU available: True, used: True\nTPU available: False, using: 0 TPU cores\nCUDA_VISIBLE_DEVICES: [0]\n"
    }
   ],
   "source": [
    "trainer = pl.Trainer(\n",
    "        fast_dev_run=True,\n",
    "        deterministic=True,\n",
    "        benchmark=True,\n",
    "        gpus=1,\n",
    "        logger=wandb_logger,\n",
    "        weights_summary=\"top\",\n",
    "        max_epochs=1,\n",
    "        val_check_interval=0.25,\n",
    "        # limit_val_batches=0.,\n",
    ")"
   ]
  },
  {
   "cell_type": "code",
   "execution_count": 20,
   "metadata": {
    "tags": []
   },
   "outputs": [
    {
     "output_type": "stream",
     "name": "stderr",
     "text": "Failed to query for notebook name, you can set it manually with the WANDB_NOTEBOOK_NAME environment variable\n\u001b[34m\u001b[1mwandb\u001b[0m: Wandb version 0.10.4 is available!  To upgrade, please run:\n\u001b[34m\u001b[1mwandb\u001b[0m:  $ pip install wandb --upgrade\n\n  | Name  | Type          | Params\n----------------------------------------\n0 | model | MultimodalVAE | 1 M   \n"
    },
    {
     "output_type": "display_data",
     "data": {
      "text/plain": "HBox(children=(FloatProgress(value=1.0, bar_style=&#39;info&#39;, description=&#39;Training&#39;, layout=Layout(flex=&#39;2&#39;), max…",
      "application/vnd.jupyter.widget-view+json": {
       "version_major": 2,
       "version_minor": 0,
       "model_id": "39ec51e2b6be4e04b1b0c2043cbadc48"
      }
     },
     "metadata": {}
    },
    {
     "output_type": "display_data",
     "data": {
      "text/plain": "HBox(children=(FloatProgress(value=1.0, bar_style=&#39;info&#39;, description=&#39;Validating&#39;, layout=Layout(flex=&#39;2&#39;), m…",
      "application/vnd.jupyter.widget-view+json": {
       "version_major": 2,
       "version_minor": 0,
       "model_id": "633ff3c0f53243cebb1cdb90675650d9"
      }
     },
     "metadata": {}
    },
    {
     "output_type": "stream",
     "name": "stderr",
     "text": "Saving latest checkpoint..\n\n"
    },
    {
     "output_type": "execute_result",
     "data": {
      "text/plain": "1"
     },
     "metadata": {},
     "execution_count": 20
    }
   ],
   "source": [
    "trainer.fit(exp)"
   ]
  },
  {
   "cell_type": "code",
   "execution_count": null,
   "metadata": {},
   "outputs": [],
   "source": []
  }
 ]
}