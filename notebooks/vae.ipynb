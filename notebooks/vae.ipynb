{
 "metadata": {
  "language_info": {
   "codemirror_mode": {
    "name": "ipython",
    "version": 3
   },
   "file_extension": ".py",
   "mimetype": "text/x-python",
   "name": "python",
   "nbconvert_exporter": "python",
   "pygments_lexer": "ipython3",
   "version": "3.7.8-final"
  },
  "orig_nbformat": 2,
  "kernelspec": {
   "name": "python_defaultSpec_1600306611307",
   "display_name": "Python 3.7.7 64-bit ('pytorch': conda)"
  }
 },
 "nbformat": 4,
 "nbformat_minor": 2,
 "cells": [
  {
   "cell_type": "code",
   "execution_count": 1,
   "metadata": {},
   "outputs": [],
   "source": [
    "%load_ext autoreload\n",
    "%autoreload 2"
   ]
  },
  {
   "cell_type": "code",
   "execution_count": 2,
   "metadata": {},
   "outputs": [],
   "source": [
    "import os\n",
    "os.chdir('..')"
   ]
  },
  {
   "cell_type": "code",
   "execution_count": 3,
   "metadata": {},
   "outputs": [],
   "source": [
    "from src.experiments import MultimodalVAEExperiment\n",
    "import yaml\n",
    "import torch\n",
    "from nflows.utils import torchutils\n",
    "from src.objectives import unimodal_elbos, bimodal_elbo"
   ]
  },
  {
   "cell_type": "code",
   "execution_count": 4,
   "metadata": {},
   "outputs": [],
   "source": [
    "# Load config file\n",
    "with open(\"configs/multimodal.yaml\", \"r\") as file:\n",
    "    try:\n",
    "        hparams = yaml.safe_load(file)\n",
    "    except yaml.YAMLError as exc:\n",
    "        print(exc)"
   ]
  },
  {
   "cell_type": "code",
   "execution_count": 5,
   "metadata": {
    "tags": []
   },
   "outputs": [
    {
     "output_type": "stream",
     "name": "stdout",
     "text": "Using downloaded and verified file: data/train_32x32.mat\nUsing downloaded and verified file: data/test_32x32.mat\n"
    }
   ],
   "source": [
    "exp = MultimodalVAEExperiment(hparams)"
   ]
  },
  {
   "cell_type": "code",
   "execution_count": 6,
   "metadata": {},
   "outputs": [],
   "source": [
    "model = exp.model\n",
    "inputs = [torch.randn(128, 1, 28, 28), torch.randn(128, 3, 32, 32)]\n",
    "num_samples = 1"
   ]
  },
  {
   "cell_type": "code",
   "execution_count": 45,
   "metadata": {},
   "outputs": [],
   "source": [
    "x, y = inputs\n",
    "x_likelihood, y_likelihood = model.likelihood"
   ]
  },
  {
   "cell_type": "code",
   "execution_count": 46,
   "metadata": {
    "tags": []
   },
   "outputs": [],
   "source": [
    "posterior_context = model.inputs_encoder(inputs)"
   ]
  },
  {
   "cell_type": "code",
   "execution_count": 47,
   "metadata": {},
   "outputs": [
    {
     "output_type": "execute_result",
     "data": {
      "text/plain": "torch.Size([128, 64])"
     },
     "metadata": {},
     "execution_count": 47
    }
   ],
   "source": [
    "posterior_context.shape"
   ]
  },
  {
   "cell_type": "code",
   "execution_count": 48,
   "metadata": {},
   "outputs": [],
   "source": [
    "z, log_q_z_xy = model.approximate_posterior.sample_and_log_prob(\n",
    "    num_samples, context=posterior_context\n",
    ")"
   ]
  },
  {
   "cell_type": "code",
   "execution_count": 49,
   "metadata": {},
   "outputs": [
    {
     "output_type": "execute_result",
     "data": {
      "text/plain": "(torch.Size([128, 1, 32]), torch.Size([128, 1]))"
     },
     "metadata": {},
     "execution_count": 49
    }
   ],
   "source": [
    "z.shape, log_q_z_xy.shape"
   ]
  },
  {
   "cell_type": "code",
   "execution_count": 50,
   "metadata": {},
   "outputs": [],
   "source": [
    "z = torchutils.merge_leading_dims(z, num_dims=2)\n",
    "log_q_z_xy = torchutils.merge_leading_dims(log_q_z_xy, num_dims=2)"
   ]
  },
  {
   "cell_type": "code",
   "execution_count": 41,
   "metadata": {},
   "outputs": [
    {
     "output_type": "execute_result",
     "data": {
      "text/plain": "(torch.Size([128, 32]), torch.Size([128, 1, 28, 28]))"
     },
     "metadata": {},
     "execution_count": 41
    }
   ],
   "source": [
    "z.shape, x.shape"
   ]
  },
  {
   "cell_type": "code",
   "execution_count": 55,
   "metadata": {},
   "outputs": [],
   "source": [
    "elbo_sum, contexts = unimodal_elbos(model, inputs, [1.0, 1.0])"
   ]
  },
  {
   "cell_type": "code",
   "execution_count": 58,
   "metadata": {},
   "outputs": [],
   "source": [
    "log_q_z_x = model.approximate_posterior.log_prob(z, context=contexts[0])\n",
    "log_q_z_y = model.approximate_posterior.log_prob(z, context=contexts[1])"
   ]
  },
  {
   "cell_type": "code",
   "execution_count": 59,
   "metadata": {},
   "outputs": [
    {
     "output_type": "execute_result",
     "data": {
      "text/plain": "torch.Size([128])"
     },
     "metadata": {},
     "execution_count": 59
    }
   ],
   "source": [
    "log_q_z_x.shape"
   ]
  },
  {
   "cell_type": "code",
   "execution_count": 7,
   "metadata": {},
   "outputs": [
    {
     "output_type": "execute_result",
     "data": {
      "text/plain": "torch.Size([128])"
     },
     "metadata": {},
     "execution_count": 7
    }
   ],
   "source": [
    "bimodal_elbo(model, inputs, [1.0, 1.0]).shape"
   ]
  },
  {
   "cell_type": "code",
   "execution_count": null,
   "metadata": {},
   "outputs": [],
   "source": []
  }
 ]
}