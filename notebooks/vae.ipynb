{
 "metadata": {
  "language_info": {
   "codemirror_mode": {
    "name": "ipython",
    "version": 3
   },
   "file_extension": ".py",
   "mimetype": "text/x-python",
   "name": "python",
   "nbconvert_exporter": "python",
   "pygments_lexer": "ipython3",
   "version": "3.7.7-final"
  },
  "orig_nbformat": 2,
  "kernelspec": {
   "name": "Python 3.7.7 64-bit",
   "display_name": "Python 3.7.7 64-bit",
   "metadata": {
    "interpreter": {
     "hash": "6aa33cacc74d0b22228408f19e5e14512ab8e4d46dea8422446cabbc534b448a"
    }
   }
  }
 },
 "nbformat": 4,
 "nbformat_minor": 2,
 "cells": [
  {
   "cell_type": "code",
   "execution_count": 1,
   "metadata": {},
   "outputs": [],
   "source": [
    "%load_ext autoreload\n",
    "%autoreload 2"
   ]
  },
  {
   "cell_type": "code",
   "execution_count": 2,
   "metadata": {},
   "outputs": [],
   "source": [
    "import os\n",
    "os.chdir('..')"
   ]
  },
  {
   "cell_type": "code",
   "execution_count": 14,
   "metadata": {},
   "outputs": [],
   "source": [
    "from src.models.nns import (\n",
    "    MultimodalEncoder,\n",
    "    SetEncoder,\n",
    "    ConcatEncoder\n",
    ")\n",
    "import torch"
   ]
  },
  {
   "cell_type": "code",
   "execution_count": 18,
   "metadata": {},
   "outputs": [],
   "source": [
    "input_size = 40\n",
    "output_size = 40\n",
    "hidden_units = [40]\n",
    "batch_size = 32\n",
    "n_modalities = 3\n",
    "\n",
    "xs = [torch.randn(batch_size, input_size) for _ in range(n_modalities)]\n",
    "xs_missing = [None, torch.randn(batch_size, input_size), None]"
   ]
  },
  {
   "cell_type": "code",
   "execution_count": 12,
   "metadata": {},
   "outputs": [],
   "source": [
    "set_encoder = SetEncoder(\n",
    "    input_size, output_size, hidden_units=hidden_units\n",
    ")"
   ]
  },
  {
   "cell_type": "code",
   "execution_count": 19,
   "metadata": {},
   "outputs": [],
   "source": [
    "output = set_encoder(xs_missing)"
   ]
  },
  {
   "cell_type": "code",
   "execution_count": 20,
   "metadata": {},
   "outputs": [
    {
     "output_type": "execute_result",
     "data": {
      "text/plain": "torch.Size([32, 40])"
     },
     "metadata": {},
     "execution_count": 20
    }
   ],
   "source": [
    "output.shape"
   ]
  },
  {
   "cell_type": "code",
   "execution_count": 23,
   "metadata": {},
   "outputs": [],
   "source": [
    "concat_encoder = ConcatEncoder(\n",
    "    n_modalities, input_size, output_size, hidden_units=hidden_units\n",
    ")"
   ]
  },
  {
   "cell_type": "code",
   "execution_count": 24,
   "metadata": {},
   "outputs": [
    {
     "output_type": "execute_result",
     "data": {
      "text/plain": "ConcatEncoder(\n  (0): LambdaLayer()\n  (1): Linear(in_features=120, out_features=40, bias=True)\n  (2): ReLU()\n  (3): Linear(in_features=40, out_features=40, bias=True)\n)"
     },
     "metadata": {},
     "execution_count": 24
    }
   ],
   "source": [
    "concat_encoder"
   ]
  },
  {
   "cell_type": "code",
   "execution_count": 28,
   "metadata": {},
   "outputs": [],
   "source": [
    "output = concat_encoder(xs_missing)"
   ]
  },
  {
   "cell_type": "code",
   "execution_count": 30,
   "metadata": {},
   "outputs": [
    {
     "output_type": "execute_result",
     "data": {
      "text/plain": "torch.Size([32, 40])"
     },
     "metadata": {},
     "execution_count": 30
    }
   ],
   "source": [
    "output.shape"
   ]
  },
  {
   "cell_type": "code",
   "execution_count": null,
   "metadata": {},
   "outputs": [],
   "source": [
    "encoder = MultimodalEncoder()"
   ]
  }
 ]
}