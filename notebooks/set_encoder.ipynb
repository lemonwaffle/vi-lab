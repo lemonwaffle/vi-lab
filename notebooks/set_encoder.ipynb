{
 "metadata": {
  "language_info": {
   "codemirror_mode": {
    "name": "ipython",
    "version": 3
   },
   "file_extension": ".py",
   "mimetype": "text/x-python",
   "name": "python",
   "nbconvert_exporter": "python",
   "pygments_lexer": "ipython3",
   "version": "3.7.9-final"
  },
  "orig_nbformat": 2,
  "kernelspec": {
   "name": "python3",
   "display_name": "Python 3"
  }
 },
 "nbformat": 4,
 "nbformat_minor": 2,
 "cells": [
  {
   "cell_type": "code",
   "execution_count": 1,
   "metadata": {},
   "outputs": [],
   "source": [
    "%load_ext autoreload\n",
    "%autoreload 2\n",
    "\n",
    "import os\n",
    "os.chdir('..')"
   ]
  },
  {
   "cell_type": "code",
   "execution_count": 2,
   "metadata": {},
   "outputs": [],
   "source": [
    "import torch\n",
    "import torch.nn as nn\n",
    "import numpy as np\n",
    "from src.models import DeepSet, SetTransformer\n",
    "from src.models.base import MLP"
   ]
  },
  {
   "cell_type": "code",
   "execution_count": 4,
   "metadata": {},
   "outputs": [],
   "source": [
    "def gen_data(batch_size, max_length=10, test=False):\n",
    "    length = np.random.randint(1, max_length + 1)\n",
    "    print(length)\n",
    "    \n",
    "    x = np.random.randint(1, 100, (batch_size, length))\n",
    "    y = np.max(x, axis=1)\n",
    "    x, y = np.expand_dims(x, axis=2), np.expand_dims(y, axis=1)\n",
    "\n",
    "    # `x`: [batch_size, length_set, num_features]\n",
    "    # `y`: [batch_size, 1]\n",
    "    return x, y\n"
   ]
  },
  {
   "cell_type": "code",
   "execution_count": 12,
   "metadata": {},
   "outputs": [
    {
     "output_type": "stream",
     "name": "stdout",
     "text": [
      "3\n"
     ]
    }
   ],
   "source": [
    "x, y = gen_data(100, 10)\n",
    "x, y = torch.from_numpy(x).float(), torch.from_numpy(y).float()"
   ]
  },
  {
   "cell_type": "code",
   "execution_count": 13,
   "metadata": {},
   "outputs": [
    {
     "output_type": "execute_result",
     "data": {
      "text/plain": [
       "(torch.Size([100, 3, 1]), torch.Size([100, 1]))"
      ]
     },
     "metadata": {},
     "execution_count": 13
    }
   ],
   "source": [
    "x.shape, y.shape"
   ]
  },
  {
   "cell_type": "code",
   "execution_count": 15,
   "metadata": {},
   "outputs": [],
   "source": [
    "input_size = 40\n",
    "output_size = 40\n",
    "hidden_size = 64\n",
    "\n",
    "deep_set = DeepSet(input_size, output_size, hidden_size)\n",
    "set_tf = SetTransformer(input_size, output_size, hidden_size)"
   ]
  },
  {
   "cell_type": "code",
   "execution_count": 5,
   "metadata": {},
   "outputs": [],
   "source": [
    "input = torch.randn(32, 3, 40)"
   ]
  },
  {
   "cell_type": "code",
   "execution_count": 8,
   "metadata": {},
   "outputs": [],
   "source": [
    "output = deep_set(input)"
   ]
  },
  {
   "cell_type": "code",
   "execution_count": 9,
   "metadata": {},
   "outputs": [
    {
     "output_type": "execute_result",
     "data": {
      "text/plain": [
       "torch.Size([32, 40])"
      ]
     },
     "metadata": {},
     "execution_count": 9
    }
   ],
   "source": [
    "output.shape"
   ]
  },
  {
   "cell_type": "code",
   "execution_count": 18,
   "metadata": {},
   "outputs": [],
   "source": [
    "output = set_tf(input)"
   ]
  },
  {
   "cell_type": "code",
   "execution_count": 19,
   "metadata": {},
   "outputs": [
    {
     "output_type": "execute_result",
     "data": {
      "text/plain": [
       "torch.Size([32, 40])"
      ]
     },
     "metadata": {},
     "execution_count": 19
    }
   ],
   "source": [
    "output.shape"
   ]
  },
  {
   "cell_type": "code",
   "execution_count": 20,
   "metadata": {},
   "outputs": [],
   "source": [
    "xs = torch.stack([torch.randn(5, 32) for _ in range(2)], dim=1)"
   ]
  },
  {
   "cell_type": "code",
   "execution_count": 21,
   "metadata": {},
   "outputs": [
    {
     "output_type": "execute_result",
     "data": {
      "text/plain": [
       "torch.Size([5, 2, 32])"
      ]
     },
     "metadata": {},
     "execution_count": 21
    }
   ],
   "source": [
    "xs.shape"
   ]
  },
  {
   "cell_type": "code",
   "execution_count": 22,
   "metadata": {},
   "outputs": [
    {
     "output_type": "execute_result",
     "data": {
      "text/plain": [
       "21864"
      ]
     },
     "metadata": {},
     "execution_count": 22
    }
   ],
   "source": [
    "sum(p.numel() for p in deep_set.parameters() if p.requires_grad)"
   ]
  },
  {
   "cell_type": "code",
   "execution_count": 23,
   "metadata": {},
   "outputs": [
    {
     "output_type": "execute_result",
     "data": {
      "text/plain": [
       "47976"
      ]
     },
     "metadata": {},
     "execution_count": 23
    }
   ],
   "source": [
    "sum(p.numel() for p in set_tf.parameters() if p.requires_grad)"
   ]
  }
 ]
}